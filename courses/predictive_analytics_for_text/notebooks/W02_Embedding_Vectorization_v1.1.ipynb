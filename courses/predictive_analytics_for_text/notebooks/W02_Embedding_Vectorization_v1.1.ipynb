{
 "cells": [
  {
   "cell_type": "code",
   "execution_count": 1,
   "id": "8bdea21b",
   "metadata": {},
   "outputs": [
    {
     "name": "stdout",
     "output_type": "stream",
     "text": [
      "Master split already exists at: Artifacts/master_split_indices.joblib\n",
      "✅ Dataset loaded successfully: 3303 rows\n"
     ]
    },
    {
     "name": "stderr",
     "output_type": "stream",
     "text": [
      "INFO:helpers_text_preprocessing:Successfully loaded spaCy model: en_core_web_sm\n",
      "INFO:helpers_text_preprocessing:Starting enhanced text preprocessing pipeline...\n",
      "INFO:helpers_text_preprocessing:  Step 1/4: Unicode normalization and mojibake removal\n",
      "INFO:helpers_text_preprocessing:  Step 2/4: Preserving legal multiword terms\n",
      "INFO:helpers_text_preprocessing:  Step 3/4: spaCy processing (batch_size=100, n_process=4)\n",
      "INFO:helpers_text_preprocessing:  Step 4/4: Final cleanup and validation\n",
      "INFO:helpers_text_preprocessing:Preprocessing complete. Average tokens per document: 92.1\n",
      "INFO:gensim.models.word2vec:collecting all words and their counts\n",
      "INFO:gensim.models.word2vec:PROGRESS: at sentence #0, processed 0 words, keeping 0 word types\n",
      "INFO:gensim.models.word2vec:collected 13053 word types from a corpus of 211815 raw words and 2301 sentences\n",
      "INFO:gensim.models.word2vec:Creating a fresh vocabulary\n",
      "INFO:gensim.utils:Word2Vec lifecycle event {'msg': 'effective_min_count=2 retains 8705 unique words (66.69% of original 13053, drops 4348)', 'datetime': '2025-10-11T16:44:02.932352', 'gensim': '4.3.3', 'python': '3.10.18 | packaged by conda-forge | (main, Jun  4 2025, 14:46:00) [Clang 18.1.8 ]', 'platform': 'macOS-26.0.1-arm64-arm-64bit', 'event': 'prepare_vocab'}\n",
      "INFO:gensim.utils:Word2Vec lifecycle event {'msg': 'effective_min_count=2 leaves 207467 word corpus (97.95% of original 211815, drops 4348)', 'datetime': '2025-10-11T16:44:02.932696', 'gensim': '4.3.3', 'python': '3.10.18 | packaged by conda-forge | (main, Jun  4 2025, 14:46:00) [Clang 18.1.8 ]', 'platform': 'macOS-26.0.1-arm64-arm-64bit', 'event': 'prepare_vocab'}\n",
      "INFO:gensim.models.word2vec:deleting the raw counts dictionary of 13053 items\n",
      "INFO:gensim.models.word2vec:sample=0.001 downsamples 41 most-common words\n",
      "INFO:gensim.utils:Word2Vec lifecycle event {'msg': 'downsampling leaves estimated 186493.19506472803 word corpus (89.9%% of prior 207467)', 'datetime': '2025-10-11T16:44:02.948266', 'gensim': '4.3.3', 'python': '3.10.18 | packaged by conda-forge | (main, Jun  4 2025, 14:46:00) [Clang 18.1.8 ]', 'platform': 'macOS-26.0.1-arm64-arm-64bit', 'event': 'prepare_vocab'}\n",
      "INFO:gensim.models.word2vec:estimated required memory for 8705 words and 300 dimensions: 25244500 bytes\n",
      "INFO:gensim.models.word2vec:resetting layer weights\n",
      "INFO:gensim.utils:Word2Vec lifecycle event {'update': False, 'trim_rule': 'None', 'datetime': '2025-10-11T16:44:02.978821', 'gensim': '4.3.3', 'python': '3.10.18 | packaged by conda-forge | (main, Jun  4 2025, 14:46:00) [Clang 18.1.8 ]', 'platform': 'macOS-26.0.1-arm64-arm-64bit', 'event': 'build_vocab'}\n",
      "INFO:gensim.utils:Word2Vec lifecycle event {'msg': 'training model with 4 workers on 8705 vocabulary and 300 features, using sg=0 hs=0 sample=0.001 negative=5 window=5 shrink_windows=True', 'datetime': '2025-10-11T16:44:02.979089', 'gensim': '4.3.3', 'python': '3.10.18 | packaged by conda-forge | (main, Jun  4 2025, 14:46:00) [Clang 18.1.8 ]', 'platform': 'macOS-26.0.1-arm64-arm-64bit', 'event': 'train'}\n"
     ]
    },
    {
     "name": "stdout",
     "output_type": "stream",
     "text": [
      "Text preprocessing complete.\n",
      "Saving all results under: /Users/fpmuga/Documents/00-MathClasses/2025-2026/1_FirstSemester_2025-2026/MATH_130.1-UV1_2025-1/MUGA_LAB/03_Notebooks/MUGA_LAB/Artifacts\n",
      "Loaded fixed master split indices for all tasks.\n",
      "\n",
      " Binary classification (first_party_winner)\n",
      "→ Vectorizing binary task with word2vec_avg ...\n"
     ]
    },
    {
     "name": "stderr",
     "output_type": "stream",
     "text": [
      "INFO:gensim.models.word2vec:EPOCH 0: training on 211815 raw words (186431 effective words) took 0.1s, 1979870 effective words/s\n",
      "INFO:gensim.models.word2vec:EPOCH 1: training on 211815 raw words (186507 effective words) took 0.1s, 2137061 effective words/s\n",
      "INFO:gensim.models.word2vec:EPOCH 2: training on 211815 raw words (186555 effective words) took 0.1s, 2138094 effective words/s\n",
      "INFO:gensim.models.word2vec:EPOCH 3: training on 211815 raw words (186458 effective words) took 0.1s, 1975400 effective words/s\n",
      "INFO:gensim.models.word2vec:EPOCH 4: training on 211815 raw words (186599 effective words) took 0.1s, 1906472 effective words/s\n",
      "INFO:gensim.utils:Word2Vec lifecycle event {'msg': 'training on 1059075 raw words (932550 effective words) took 0.5s, 1980609 effective words/s', 'datetime': '2025-10-11T16:44:03.450126', 'gensim': '4.3.3', 'python': '3.10.18 | packaged by conda-forge | (main, Jun  4 2025, 14:46:00) [Clang 18.1.8 ]', 'platform': 'macOS-26.0.1-arm64-arm-64bit', 'event': 'train'}\n",
      "INFO:gensim.utils:Word2Vec lifecycle event {'params': 'Word2Vec<vocab=8705, vector_size=300, alpha=0.025>', 'datetime': '2025-10-11T16:44:03.450384', 'gensim': '4.3.3', 'python': '3.10.18 | packaged by conda-forge | (main, Jun  4 2025, 14:46:00) [Clang 18.1.8 ]', 'platform': 'macOS-26.0.1-arm64-arm-64bit', 'event': 'created'}\n",
      "INFO:gensim.models.word2vec:collecting all words and their counts\n",
      "INFO:gensim.models.word2vec:PROGRESS: at sentence #0, processed 0 words, keeping 0 word types\n",
      "INFO:gensim.models.word2vec:collected 13053 word types from a corpus of 211815 raw words and 2301 sentences\n",
      "INFO:gensim.models.word2vec:Creating a fresh vocabulary\n",
      "INFO:gensim.utils:Word2Vec lifecycle event {'msg': 'effective_min_count=2 retains 8705 unique words (66.69% of original 13053, drops 4348)', 'datetime': '2025-10-11T16:44:03.861457', 'gensim': '4.3.3', 'python': '3.10.18 | packaged by conda-forge | (main, Jun  4 2025, 14:46:00) [Clang 18.1.8 ]', 'platform': 'macOS-26.0.1-arm64-arm-64bit', 'event': 'prepare_vocab'}\n",
      "INFO:gensim.utils:Word2Vec lifecycle event {'msg': 'effective_min_count=2 leaves 207467 word corpus (97.95% of original 211815, drops 4348)', 'datetime': '2025-10-11T16:44:03.861820', 'gensim': '4.3.3', 'python': '3.10.18 | packaged by conda-forge | (main, Jun  4 2025, 14:46:00) [Clang 18.1.8 ]', 'platform': 'macOS-26.0.1-arm64-arm-64bit', 'event': 'prepare_vocab'}\n",
      "INFO:gensim.models.word2vec:deleting the raw counts dictionary of 13053 items\n",
      "INFO:gensim.models.word2vec:sample=0.001 downsamples 41 most-common words\n",
      "INFO:gensim.utils:Word2Vec lifecycle event {'msg': 'downsampling leaves estimated 186493.19506472803 word corpus (89.9%% of prior 207467)', 'datetime': '2025-10-11T16:44:03.877881', 'gensim': '4.3.3', 'python': '3.10.18 | packaged by conda-forge | (main, Jun  4 2025, 14:46:00) [Clang 18.1.8 ]', 'platform': 'macOS-26.0.1-arm64-arm-64bit', 'event': 'prepare_vocab'}\n",
      "INFO:gensim.models.word2vec:estimated required memory for 8705 words and 300 dimensions: 25244500 bytes\n",
      "INFO:gensim.models.word2vec:resetting layer weights\n",
      "INFO:gensim.utils:Word2Vec lifecycle event {'update': False, 'trim_rule': 'None', 'datetime': '2025-10-11T16:44:03.908179', 'gensim': '4.3.3', 'python': '3.10.18 | packaged by conda-forge | (main, Jun  4 2025, 14:46:00) [Clang 18.1.8 ]', 'platform': 'macOS-26.0.1-arm64-arm-64bit', 'event': 'build_vocab'}\n",
      "INFO:gensim.utils:Word2Vec lifecycle event {'msg': 'training model with 4 workers on 8705 vocabulary and 300 features, using sg=0 hs=0 sample=0.001 negative=5 window=5 shrink_windows=True', 'datetime': '2025-10-11T16:44:03.908423', 'gensim': '4.3.3', 'python': '3.10.18 | packaged by conda-forge | (main, Jun  4 2025, 14:46:00) [Clang 18.1.8 ]', 'platform': 'macOS-26.0.1-arm64-arm-64bit', 'event': 'train'}\n"
     ]
    },
    {
     "name": "stdout",
     "output_type": "stream",
     "text": [
      "Saved word2vec_avg results to Artifacts/binary/binary_word2vec_avg_300f.joblib\n",
      "→ Vectorizing binary task with word2vec_tfidf ...\n"
     ]
    },
    {
     "name": "stderr",
     "output_type": "stream",
     "text": [
      "INFO:gensim.models.word2vec:EPOCH 0: training on 211815 raw words (186331 effective words) took 0.1s, 1924453 effective words/s\n",
      "INFO:gensim.models.word2vec:EPOCH 1: training on 211815 raw words (186585 effective words) took 0.1s, 2015564 effective words/s\n",
      "INFO:gensim.models.word2vec:EPOCH 2: training on 211815 raw words (186419 effective words) took 0.1s, 2190588 effective words/s\n",
      "INFO:gensim.models.word2vec:EPOCH 3: training on 211815 raw words (186589 effective words) took 0.1s, 2117355 effective words/s\n",
      "INFO:gensim.models.word2vec:EPOCH 4: training on 211815 raw words (186398 effective words) took 0.1s, 2043205 effective words/s\n",
      "INFO:gensim.utils:Word2Vec lifecycle event {'msg': 'training on 1059075 raw words (932322 effective words) took 0.5s, 1999083 effective words/s', 'datetime': '2025-10-11T16:44:04.375012', 'gensim': '4.3.3', 'python': '3.10.18 | packaged by conda-forge | (main, Jun  4 2025, 14:46:00) [Clang 18.1.8 ]', 'platform': 'macOS-26.0.1-arm64-arm-64bit', 'event': 'train'}\n",
      "INFO:gensim.utils:Word2Vec lifecycle event {'params': 'Word2Vec<vocab=8705, vector_size=300, alpha=0.025>', 'datetime': '2025-10-11T16:44:04.375301', 'gensim': '4.3.3', 'python': '3.10.18 | packaged by conda-forge | (main, Jun  4 2025, 14:46:00) [Clang 18.1.8 ]', 'platform': 'macOS-26.0.1-arm64-arm-64bit', 'event': 'created'}\n",
      "INFO:gensim.models.word2vec:collecting all words and their counts\n",
      "INFO:gensim.models.word2vec:PROGRESS: at sentence #0, processed 0 words, keeping 0 word types\n",
      "INFO:gensim.models.word2vec:collected 13053 word types from a corpus of 211815 raw words and 2301 sentences\n",
      "INFO:gensim.models.word2vec:Creating a fresh vocabulary\n",
      "INFO:gensim.utils:FastText lifecycle event {'msg': 'effective_min_count=2 retains 8705 unique words (66.69% of original 13053, drops 4348)', 'datetime': '2025-10-11T16:44:05.027448', 'gensim': '4.3.3', 'python': '3.10.18 | packaged by conda-forge | (main, Jun  4 2025, 14:46:00) [Clang 18.1.8 ]', 'platform': 'macOS-26.0.1-arm64-arm-64bit', 'event': 'prepare_vocab'}\n",
      "INFO:gensim.utils:FastText lifecycle event {'msg': 'effective_min_count=2 leaves 207467 word corpus (97.95% of original 211815, drops 4348)', 'datetime': '2025-10-11T16:44:05.027783', 'gensim': '4.3.3', 'python': '3.10.18 | packaged by conda-forge | (main, Jun  4 2025, 14:46:00) [Clang 18.1.8 ]', 'platform': 'macOS-26.0.1-arm64-arm-64bit', 'event': 'prepare_vocab'}\n",
      "INFO:gensim.models.word2vec:deleting the raw counts dictionary of 13053 items\n",
      "INFO:gensim.models.word2vec:sample=0.001 downsamples 41 most-common words\n",
      "INFO:gensim.utils:FastText lifecycle event {'msg': 'downsampling leaves estimated 186493.19506472803 word corpus (89.9%% of prior 207467)', 'datetime': '2025-10-11T16:44:05.043595', 'gensim': '4.3.3', 'python': '3.10.18 | packaged by conda-forge | (main, Jun  4 2025, 14:46:00) [Clang 18.1.8 ]', 'platform': 'macOS-26.0.1-arm64-arm-64bit', 'event': 'prepare_vocab'}\n",
      "INFO:gensim.models.fasttext:estimated required memory for 8705 words, 2000000 buckets and 300 dimensions: 2426899640 bytes\n",
      "INFO:gensim.models.word2vec:resetting layer weights\n"
     ]
    },
    {
     "name": "stdout",
     "output_type": "stream",
     "text": [
      "Saved word2vec_tfidf results to Artifacts/binary/binary_word2vec_tfidf_300f.joblib\n",
      "→ Vectorizing binary task with fasttext_avg ...\n"
     ]
    },
    {
     "name": "stderr",
     "output_type": "stream",
     "text": [
      "INFO:gensim.utils:FastText lifecycle event {'update': False, 'trim_rule': 'None', 'datetime': '2025-10-11T16:44:06.635139', 'gensim': '4.3.3', 'python': '3.10.18 | packaged by conda-forge | (main, Jun  4 2025, 14:46:00) [Clang 18.1.8 ]', 'platform': 'macOS-26.0.1-arm64-arm-64bit', 'event': 'build_vocab'}\n",
      "INFO:gensim.utils:FastText lifecycle event {'msg': 'training model with 4 workers on 8705 vocabulary and 300 features, using sg=0 hs=0 sample=0.001 negative=5 window=5 shrink_windows=True', 'datetime': '2025-10-11T16:44:06.635580', 'gensim': '4.3.3', 'python': '3.10.18 | packaged by conda-forge | (main, Jun  4 2025, 14:46:00) [Clang 18.1.8 ]', 'platform': 'macOS-26.0.1-arm64-arm-64bit', 'event': 'train'}\n",
      "INFO:gensim.models.word2vec:EPOCH 0: training on 211815 raw words (186459 effective words) took 0.6s, 300087 effective words/s\n",
      "INFO:gensim.models.word2vec:EPOCH 1: training on 211815 raw words (186553 effective words) took 0.6s, 303115 effective words/s\n",
      "INFO:gensim.models.word2vec:EPOCH 2: training on 211815 raw words (186447 effective words) took 0.6s, 303314 effective words/s\n",
      "INFO:gensim.models.word2vec:EPOCH 3: training on 211815 raw words (186540 effective words) took 0.6s, 303848 effective words/s\n",
      "INFO:gensim.models.word2vec:EPOCH 4: training on 211815 raw words (186543 effective words) took 0.6s, 308871 effective words/s\n",
      "INFO:gensim.utils:FastText lifecycle event {'msg': 'training on 1059075 raw words (932542 effective words) took 3.1s, 302779 effective words/s', 'datetime': '2025-10-11T16:44:09.715875', 'gensim': '4.3.3', 'python': '3.10.18 | packaged by conda-forge | (main, Jun  4 2025, 14:46:00) [Clang 18.1.8 ]', 'platform': 'macOS-26.0.1-arm64-arm-64bit', 'event': 'train'}\n",
      "INFO:gensim.utils:FastText lifecycle event {'params': 'FastText<vocab=8705, vector_size=300, alpha=0.025>', 'datetime': '2025-10-11T16:44:09.826119', 'gensim': '4.3.3', 'python': '3.10.18 | packaged by conda-forge | (main, Jun  4 2025, 14:46:00) [Clang 18.1.8 ]', 'platform': 'macOS-26.0.1-arm64-arm-64bit', 'event': 'created'}\n",
      "INFO:gensim.models.word2vec:collecting all words and their counts\n",
      "INFO:gensim.models.word2vec:PROGRESS: at sentence #0, processed 0 words, keeping 0 word types\n",
      "INFO:gensim.models.word2vec:collected 13053 word types from a corpus of 211815 raw words and 2301 sentences\n",
      "INFO:gensim.models.word2vec:Creating a fresh vocabulary\n",
      "INFO:gensim.utils:FastText lifecycle event {'msg': 'effective_min_count=2 retains 8705 unique words (66.69% of original 13053, drops 4348)', 'datetime': '2025-10-11T16:44:10.430946', 'gensim': '4.3.3', 'python': '3.10.18 | packaged by conda-forge | (main, Jun  4 2025, 14:46:00) [Clang 18.1.8 ]', 'platform': 'macOS-26.0.1-arm64-arm-64bit', 'event': 'prepare_vocab'}\n",
      "INFO:gensim.utils:FastText lifecycle event {'msg': 'effective_min_count=2 leaves 207467 word corpus (97.95% of original 211815, drops 4348)', 'datetime': '2025-10-11T16:44:10.431309', 'gensim': '4.3.3', 'python': '3.10.18 | packaged by conda-forge | (main, Jun  4 2025, 14:46:00) [Clang 18.1.8 ]', 'platform': 'macOS-26.0.1-arm64-arm-64bit', 'event': 'prepare_vocab'}\n",
      "INFO:gensim.models.word2vec:deleting the raw counts dictionary of 13053 items\n",
      "INFO:gensim.models.word2vec:sample=0.001 downsamples 41 most-common words\n",
      "INFO:gensim.utils:FastText lifecycle event {'msg': 'downsampling leaves estimated 186493.19506472803 word corpus (89.9%% of prior 207467)', 'datetime': '2025-10-11T16:44:10.447300', 'gensim': '4.3.3', 'python': '3.10.18 | packaged by conda-forge | (main, Jun  4 2025, 14:46:00) [Clang 18.1.8 ]', 'platform': 'macOS-26.0.1-arm64-arm-64bit', 'event': 'prepare_vocab'}\n",
      "INFO:gensim.models.fasttext:estimated required memory for 8705 words, 2000000 buckets and 300 dimensions: 2426899640 bytes\n",
      "INFO:gensim.models.word2vec:resetting layer weights\n"
     ]
    },
    {
     "name": "stdout",
     "output_type": "stream",
     "text": [
      "Saved fasttext_avg results to Artifacts/binary/binary_fasttext_avg_300f.joblib\n",
      "→ Vectorizing binary task with fasttext_tfidf ...\n"
     ]
    },
    {
     "name": "stderr",
     "output_type": "stream",
     "text": [
      "INFO:gensim.utils:FastText lifecycle event {'update': False, 'trim_rule': 'None', 'datetime': '2025-10-11T16:44:12.054434', 'gensim': '4.3.3', 'python': '3.10.18 | packaged by conda-forge | (main, Jun  4 2025, 14:46:00) [Clang 18.1.8 ]', 'platform': 'macOS-26.0.1-arm64-arm-64bit', 'event': 'build_vocab'}\n",
      "INFO:gensim.utils:FastText lifecycle event {'msg': 'training model with 4 workers on 8705 vocabulary and 300 features, using sg=0 hs=0 sample=0.001 negative=5 window=5 shrink_windows=True', 'datetime': '2025-10-11T16:44:12.054855', 'gensim': '4.3.3', 'python': '3.10.18 | packaged by conda-forge | (main, Jun  4 2025, 14:46:00) [Clang 18.1.8 ]', 'platform': 'macOS-26.0.1-arm64-arm-64bit', 'event': 'train'}\n",
      "INFO:gensim.models.word2vec:EPOCH 0: training on 211815 raw words (186458 effective words) took 0.7s, 283437 effective words/s\n",
      "INFO:gensim.models.word2vec:EPOCH 1: training on 211815 raw words (186535 effective words) took 0.7s, 280384 effective words/s\n",
      "INFO:gensim.models.word2vec:EPOCH 2: training on 211815 raw words (186488 effective words) took 0.6s, 289594 effective words/s\n",
      "INFO:gensim.models.word2vec:EPOCH 3: training on 211815 raw words (186367 effective words) took 0.6s, 300526 effective words/s\n",
      "INFO:gensim.models.word2vec:EPOCH 4: training on 211815 raw words (186434 effective words) took 0.6s, 290119 effective words/s\n",
      "INFO:gensim.utils:FastText lifecycle event {'msg': 'training on 1059075 raw words (932282 effective words) took 3.2s, 287943 effective words/s', 'datetime': '2025-10-11T16:44:15.292869', 'gensim': '4.3.3', 'python': '3.10.18 | packaged by conda-forge | (main, Jun  4 2025, 14:46:00) [Clang 18.1.8 ]', 'platform': 'macOS-26.0.1-arm64-arm-64bit', 'event': 'train'}\n",
      "INFO:gensim.utils:FastText lifecycle event {'params': 'FastText<vocab=8705, vector_size=300, alpha=0.025>', 'datetime': '2025-10-11T16:44:15.414468', 'gensim': '4.3.3', 'python': '3.10.18 | packaged by conda-forge | (main, Jun  4 2025, 14:46:00) [Clang 18.1.8 ]', 'platform': 'macOS-26.0.1-arm64-arm-64bit', 'event': 'created'}\n"
     ]
    },
    {
     "name": "stdout",
     "output_type": "stream",
     "text": [
      "Saved fasttext_tfidf results to Artifacts/binary/binary_fasttext_tfidf_300f.joblib\n",
      "→ Vectorizing binary task with glove_avg ...\n"
     ]
    },
    {
     "name": "stderr",
     "output_type": "stream",
     "text": [
      "INFO:gensim.models.keyedvectors:loading projection weights from /Users/fpmuga/gensim-data/glove-wiki-gigaword-300/glove-wiki-gigaword-300.gz\n",
      "INFO:gensim.utils:KeyedVectors lifecycle event {'msg': 'loaded (400000, 300) matrix of type float32 from /Users/fpmuga/gensim-data/glove-wiki-gigaword-300/glove-wiki-gigaword-300.gz', 'binary': False, 'encoding': 'utf8', 'datetime': '2025-10-11T16:44:44.720536', 'gensim': '4.3.3', 'python': '3.10.18 | packaged by conda-forge | (main, Jun  4 2025, 14:46:00) [Clang 18.1.8 ]', 'platform': 'macOS-26.0.1-arm64-arm-64bit', 'event': 'load_word2vec_format'}\n",
      "INFO:gensim.models.keyedvectors:loading projection weights from /Users/fpmuga/gensim-data/glove-wiki-gigaword-300/glove-wiki-gigaword-300.gz\n"
     ]
    },
    {
     "name": "stdout",
     "output_type": "stream",
     "text": [
      "Saved glove_avg results to Artifacts/binary/binary_glove_avg_300f.joblib\n",
      "→ Vectorizing binary task with glove_tfidf ...\n"
     ]
    },
    {
     "name": "stderr",
     "output_type": "stream",
     "text": [
      "INFO:gensim.utils:KeyedVectors lifecycle event {'msg': 'loaded (400000, 300) matrix of type float32 from /Users/fpmuga/gensim-data/glove-wiki-gigaword-300/glove-wiki-gigaword-300.gz', 'binary': False, 'encoding': 'utf8', 'datetime': '2025-10-11T16:45:13.077078', 'gensim': '4.3.3', 'python': '3.10.18 | packaged by conda-forge | (main, Jun  4 2025, 14:46:00) [Clang 18.1.8 ]', 'platform': 'macOS-26.0.1-arm64-arm-64bit', 'event': 'load_word2vec_format'}\n",
      "INFO:gensim.models.word2vec:collecting all words and their counts\n",
      "INFO:gensim.models.word2vec:PROGRESS: at sentence #0, processed 0 words, keeping 0 word types\n",
      "INFO:gensim.models.word2vec:collected 13053 word types from a corpus of 211815 raw words and 2301 sentences\n",
      "INFO:gensim.models.word2vec:Creating a fresh vocabulary\n",
      "INFO:gensim.utils:Word2Vec lifecycle event {'msg': 'effective_min_count=1 retains 13053 unique words (100.00% of original 13053, drops 0)', 'datetime': '2025-10-11T16:45:13.722776', 'gensim': '4.3.3', 'python': '3.10.18 | packaged by conda-forge | (main, Jun  4 2025, 14:46:00) [Clang 18.1.8 ]', 'platform': 'macOS-26.0.1-arm64-arm-64bit', 'event': 'prepare_vocab'}\n",
      "INFO:gensim.utils:Word2Vec lifecycle event {'msg': 'effective_min_count=1 leaves 211815 word corpus (100.00% of original 211815, drops 0)', 'datetime': '2025-10-11T16:45:13.723137', 'gensim': '4.3.3', 'python': '3.10.18 | packaged by conda-forge | (main, Jun  4 2025, 14:46:00) [Clang 18.1.8 ]', 'platform': 'macOS-26.0.1-arm64-arm-64bit', 'event': 'prepare_vocab'}\n",
      "INFO:gensim.models.word2vec:deleting the raw counts dictionary of 13053 items\n",
      "INFO:gensim.models.word2vec:sample=0.001 downsamples 40 most-common words\n",
      "INFO:gensim.utils:Word2Vec lifecycle event {'msg': 'downsampling leaves estimated 191213.1078035605 word corpus (90.3%% of prior 211815)', 'datetime': '2025-10-11T16:45:13.746636', 'gensim': '4.3.3', 'python': '3.10.18 | packaged by conda-forge | (main, Jun  4 2025, 14:46:00) [Clang 18.1.8 ]', 'platform': 'macOS-26.0.1-arm64-arm-64bit', 'event': 'prepare_vocab'}\n",
      "INFO:gensim.models.word2vec:estimated required memory for 13053 words and 300 dimensions: 37853700 bytes\n",
      "INFO:gensim.models.word2vec:resetting layer weights\n",
      "INFO:gensim.utils:Word2Vec lifecycle event {'update': False, 'trim_rule': 'None', 'datetime': '2025-10-11T16:45:13.791817', 'gensim': '4.3.3', 'python': '3.10.18 | packaged by conda-forge | (main, Jun  4 2025, 14:46:00) [Clang 18.1.8 ]', 'platform': 'macOS-26.0.1-arm64-arm-64bit', 'event': 'build_vocab'}\n",
      "INFO:gensim.utils:Word2Vec lifecycle event {'msg': 'training model with 4 workers on 13053 vocabulary and 300 features, using sg=0 hs=0 sample=0.001 negative=5 window=5 shrink_windows=True', 'datetime': '2025-10-11T16:45:13.792120', 'gensim': '4.3.3', 'python': '3.10.18 | packaged by conda-forge | (main, Jun  4 2025, 14:46:00) [Clang 18.1.8 ]', 'platform': 'macOS-26.0.1-arm64-arm-64bit', 'event': 'train'}\n"
     ]
    },
    {
     "name": "stdout",
     "output_type": "stream",
     "text": [
      "Saved glove_tfidf results to Artifacts/binary/binary_glove_tfidf_300f.joblib\n",
      "→ Vectorizing binary task with trainable_fasttext_avg ...\n"
     ]
    },
    {
     "name": "stderr",
     "output_type": "stream",
     "text": [
      "INFO:gensim.models.word2vec:EPOCH 0: training on 211815 raw words (190979 effective words) took 0.1s, 1892260 effective words/s\n",
      "INFO:gensim.models.word2vec:EPOCH 1: training on 211815 raw words (191283 effective words) took 0.1s, 1986430 effective words/s\n",
      "INFO:gensim.models.word2vec:EPOCH 2: training on 211815 raw words (191202 effective words) took 0.1s, 2057783 effective words/s\n",
      "INFO:gensim.models.word2vec:EPOCH 3: training on 211815 raw words (191428 effective words) took 0.1s, 1884534 effective words/s\n",
      "INFO:gensim.models.word2vec:EPOCH 4: training on 211815 raw words (191403 effective words) took 0.1s, 1924481 effective words/s\n",
      "INFO:gensim.models.word2vec:EPOCH 5: training on 211815 raw words (191082 effective words) took 0.1s, 1914742 effective words/s\n",
      "INFO:gensim.models.word2vec:EPOCH 6: training on 211815 raw words (191127 effective words) took 0.1s, 1998358 effective words/s\n",
      "INFO:gensim.models.word2vec:EPOCH 7: training on 211815 raw words (191280 effective words) took 0.1s, 2059917 effective words/s\n",
      "INFO:gensim.models.word2vec:EPOCH 8: training on 211815 raw words (191142 effective words) took 0.1s, 1999704 effective words/s\n",
      "INFO:gensim.models.word2vec:EPOCH 9: training on 211815 raw words (191259 effective words) took 0.1s, 2085302 effective words/s\n",
      "INFO:gensim.models.word2vec:EPOCH 10: training on 211815 raw words (191142 effective words) took 0.1s, 1986243 effective words/s\n",
      "INFO:gensim.models.word2vec:EPOCH 11: training on 211815 raw words (191277 effective words) took 0.1s, 1933416 effective words/s\n",
      "INFO:gensim.models.word2vec:EPOCH 12: training on 211815 raw words (191016 effective words) took 0.1s, 1856453 effective words/s\n",
      "INFO:gensim.models.word2vec:EPOCH 13: training on 211815 raw words (191072 effective words) took 0.1s, 1854962 effective words/s\n",
      "INFO:gensim.models.word2vec:EPOCH 14: training on 211815 raw words (191128 effective words) took 0.1s, 1880547 effective words/s\n",
      "INFO:gensim.models.word2vec:EPOCH 15: training on 211815 raw words (191359 effective words) took 0.1s, 1826516 effective words/s\n",
      "INFO:gensim.models.word2vec:EPOCH 16: training on 211815 raw words (191218 effective words) took 0.1s, 1931894 effective words/s\n",
      "INFO:gensim.models.word2vec:EPOCH 17: training on 211815 raw words (191326 effective words) took 0.1s, 1995136 effective words/s\n",
      "INFO:gensim.models.word2vec:EPOCH 18: training on 211815 raw words (191279 effective words) took 0.1s, 1825527 effective words/s\n",
      "INFO:gensim.models.word2vec:EPOCH 19: training on 211815 raw words (191252 effective words) took 0.1s, 1797399 effective words/s\n",
      "INFO:gensim.utils:Word2Vec lifecycle event {'msg': 'training on 4236300 raw words (3824254 effective words) took 2.0s, 1897649 effective words/s', 'datetime': '2025-10-11T16:45:15.807588', 'gensim': '4.3.3', 'python': '3.10.18 | packaged by conda-forge | (main, Jun  4 2025, 14:46:00) [Clang 18.1.8 ]', 'platform': 'macOS-26.0.1-arm64-arm-64bit', 'event': 'train'}\n",
      "INFO:gensim.utils:Word2Vec lifecycle event {'params': 'Word2Vec<vocab=13053, vector_size=300, alpha=0.025>', 'datetime': '2025-10-11T16:45:15.807820', 'gensim': '4.3.3', 'python': '3.10.18 | packaged by conda-forge | (main, Jun  4 2025, 14:46:00) [Clang 18.1.8 ]', 'platform': 'macOS-26.0.1-arm64-arm-64bit', 'event': 'created'}\n",
      "INFO:gensim.models.word2vec:collecting all words and their counts\n",
      "INFO:gensim.models.word2vec:PROGRESS: at sentence #0, processed 0 words, keeping 0 word types\n",
      "INFO:gensim.models.word2vec:collected 13053 word types from a corpus of 211815 raw words and 2301 sentences\n",
      "INFO:gensim.models.word2vec:Creating a fresh vocabulary\n",
      "INFO:gensim.utils:FastText lifecycle event {'msg': 'effective_min_count=1 retains 13053 unique words (100.00% of original 13053, drops 0)', 'datetime': '2025-10-11T16:45:16.230831', 'gensim': '4.3.3', 'python': '3.10.18 | packaged by conda-forge | (main, Jun  4 2025, 14:46:00) [Clang 18.1.8 ]', 'platform': 'macOS-26.0.1-arm64-arm-64bit', 'event': 'prepare_vocab'}\n",
      "INFO:gensim.utils:FastText lifecycle event {'msg': 'effective_min_count=1 leaves 211815 word corpus (100.00% of original 211815, drops 0)', 'datetime': '2025-10-11T16:45:16.231216', 'gensim': '4.3.3', 'python': '3.10.18 | packaged by conda-forge | (main, Jun  4 2025, 14:46:00) [Clang 18.1.8 ]', 'platform': 'macOS-26.0.1-arm64-arm-64bit', 'event': 'prepare_vocab'}\n",
      "INFO:gensim.models.word2vec:deleting the raw counts dictionary of 13053 items\n",
      "INFO:gensim.models.word2vec:sample=0.001 downsamples 40 most-common words\n",
      "INFO:gensim.utils:FastText lifecycle event {'msg': 'downsampling leaves estimated 191213.1078035605 word corpus (90.3%% of prior 211815)', 'datetime': '2025-10-11T16:45:16.254690', 'gensim': '4.3.3', 'python': '3.10.18 | packaged by conda-forge | (main, Jun  4 2025, 14:46:00) [Clang 18.1.8 ]', 'platform': 'macOS-26.0.1-arm64-arm-64bit', 'event': 'prepare_vocab'}\n"
     ]
    },
    {
     "name": "stdout",
     "output_type": "stream",
     "text": [
      "Saved trainable_fasttext_avg results to Artifacts/binary/binary_trainable_fasttext_avg_300f.joblib\n",
      "→ Vectorizing binary task with trainable_fasttext_tfidf ...\n"
     ]
    },
    {
     "name": "stderr",
     "output_type": "stream",
     "text": [
      "INFO:gensim.models.fasttext:estimated required memory for 13053 words, 2000000 buckets and 300 dimensions: 2440377316 bytes\n",
      "INFO:gensim.models.word2vec:resetting layer weights\n",
      "INFO:gensim.utils:FastText lifecycle event {'update': False, 'trim_rule': 'None', 'datetime': '2025-10-11T16:45:17.946656', 'gensim': '4.3.3', 'python': '3.10.18 | packaged by conda-forge | (main, Jun  4 2025, 14:46:00) [Clang 18.1.8 ]', 'platform': 'macOS-26.0.1-arm64-arm-64bit', 'event': 'build_vocab'}\n",
      "INFO:gensim.utils:FastText lifecycle event {'msg': 'training model with 4 workers on 13053 vocabulary and 300 features, using sg=0 hs=0 sample=0.001 negative=5 window=5 shrink_windows=True', 'datetime': '2025-10-11T16:45:17.947102', 'gensim': '4.3.3', 'python': '3.10.18 | packaged by conda-forge | (main, Jun  4 2025, 14:46:00) [Clang 18.1.8 ]', 'platform': 'macOS-26.0.1-arm64-arm-64bit', 'event': 'train'}\n",
      "INFO:gensim.models.word2vec:EPOCH 0: training on 211815 raw words (191259 effective words) took 0.7s, 271542 effective words/s\n",
      "INFO:gensim.models.word2vec:EPOCH 1: training on 211815 raw words (191305 effective words) took 0.7s, 282708 effective words/s\n",
      "INFO:gensim.models.word2vec:EPOCH 2: training on 211815 raw words (191230 effective words) took 0.7s, 290267 effective words/s\n",
      "INFO:gensim.models.word2vec:EPOCH 3: training on 211815 raw words (191236 effective words) took 0.6s, 295429 effective words/s\n",
      "INFO:gensim.models.word2vec:EPOCH 4: training on 211815 raw words (191260 effective words) took 0.7s, 290521 effective words/s\n",
      "INFO:gensim.models.word2vec:EPOCH 5: training on 211815 raw words (191113 effective words) took 0.6s, 300348 effective words/s\n",
      "INFO:gensim.models.word2vec:EPOCH 6: training on 211815 raw words (191095 effective words) took 0.7s, 289315 effective words/s\n",
      "INFO:gensim.models.word2vec:EPOCH 7: training on 211815 raw words (191202 effective words) took 0.7s, 287390 effective words/s\n",
      "INFO:gensim.models.word2vec:EPOCH 8: training on 211815 raw words (191082 effective words) took 0.6s, 295339 effective words/s\n",
      "INFO:gensim.models.word2vec:EPOCH 9: training on 211815 raw words (191106 effective words) took 0.7s, 282928 effective words/s\n",
      "INFO:gensim.models.word2vec:EPOCH 10: training on 211815 raw words (191192 effective words) took 0.7s, 266506 effective words/s\n",
      "INFO:gensim.models.word2vec:EPOCH 11: training on 211815 raw words (191059 effective words) took 0.7s, 284904 effective words/s\n",
      "INFO:gensim.models.word2vec:EPOCH 12: training on 211815 raw words (191280 effective words) took 0.7s, 289009 effective words/s\n",
      "INFO:gensim.models.word2vec:EPOCH 13: training on 211815 raw words (191087 effective words) took 0.7s, 277851 effective words/s\n",
      "INFO:gensim.models.word2vec:EPOCH 14: training on 211815 raw words (191279 effective words) took 0.7s, 279988 effective words/s\n",
      "INFO:gensim.models.word2vec:EPOCH 15: training on 211815 raw words (191315 effective words) took 0.7s, 272539 effective words/s\n",
      "INFO:gensim.models.word2vec:EPOCH 16: training on 211815 raw words (191091 effective words) took 0.7s, 285897 effective words/s\n",
      "INFO:gensim.models.word2vec:EPOCH 17: training on 211815 raw words (191234 effective words) took 0.7s, 285780 effective words/s\n",
      "INFO:gensim.models.word2vec:EPOCH 18: training on 211815 raw words (191246 effective words) took 0.7s, 289976 effective words/s\n",
      "INFO:gensim.models.word2vec:EPOCH 19: training on 211815 raw words (191341 effective words) took 0.6s, 295190 effective words/s\n",
      "INFO:gensim.utils:FastText lifecycle event {'msg': 'training on 4236300 raw words (3824012 effective words) took 13.5s, 284295 effective words/s', 'datetime': '2025-10-11T16:45:31.398360', 'gensim': '4.3.3', 'python': '3.10.18 | packaged by conda-forge | (main, Jun  4 2025, 14:46:00) [Clang 18.1.8 ]', 'platform': 'macOS-26.0.1-arm64-arm-64bit', 'event': 'train'}\n",
      "INFO:gensim.utils:FastText lifecycle event {'params': 'FastText<vocab=13053, vector_size=300, alpha=0.025>', 'datetime': '2025-10-11T16:45:31.574805', 'gensim': '4.3.3', 'python': '3.10.18 | packaged by conda-forge | (main, Jun  4 2025, 14:46:00) [Clang 18.1.8 ]', 'platform': 'macOS-26.0.1-arm64-arm-64bit', 'event': 'created'}\n",
      "INFO:gensim.models.word2vec:collecting all words and their counts\n",
      "INFO:gensim.models.word2vec:PROGRESS: at sentence #0, processed 0 words, keeping 0 word types\n",
      "INFO:gensim.models.word2vec:collected 12919 word types from a corpus of 206121 raw words and 2212 sentences\n",
      "INFO:gensim.models.word2vec:Creating a fresh vocabulary\n",
      "INFO:gensim.utils:Word2Vec lifecycle event {'msg': 'effective_min_count=2 retains 8499 unique words (65.79% of original 12919, drops 4420)', 'datetime': '2025-10-11T16:45:32.234567', 'gensim': '4.3.3', 'python': '3.10.18 | packaged by conda-forge | (main, Jun  4 2025, 14:46:00) [Clang 18.1.8 ]', 'platform': 'macOS-26.0.1-arm64-arm-64bit', 'event': 'prepare_vocab'}\n",
      "INFO:gensim.utils:Word2Vec lifecycle event {'msg': 'effective_min_count=2 leaves 201701 word corpus (97.86% of original 206121, drops 4420)', 'datetime': '2025-10-11T16:45:32.234897', 'gensim': '4.3.3', 'python': '3.10.18 | packaged by conda-forge | (main, Jun  4 2025, 14:46:00) [Clang 18.1.8 ]', 'platform': 'macOS-26.0.1-arm64-arm-64bit', 'event': 'prepare_vocab'}\n",
      "INFO:gensim.models.word2vec:deleting the raw counts dictionary of 12919 items\n",
      "INFO:gensim.models.word2vec:sample=0.001 downsamples 43 most-common words\n",
      "INFO:gensim.utils:Word2Vec lifecycle event {'msg': 'downsampling leaves estimated 180841.40942621103 word corpus (89.7%% of prior 201701)', 'datetime': '2025-10-11T16:45:32.249889', 'gensim': '4.3.3', 'python': '3.10.18 | packaged by conda-forge | (main, Jun  4 2025, 14:46:00) [Clang 18.1.8 ]', 'platform': 'macOS-26.0.1-arm64-arm-64bit', 'event': 'prepare_vocab'}\n",
      "INFO:gensim.models.word2vec:estimated required memory for 8499 words and 300 dimensions: 24647100 bytes\n",
      "INFO:gensim.models.word2vec:resetting layer weights\n",
      "INFO:gensim.utils:Word2Vec lifecycle event {'update': False, 'trim_rule': 'None', 'datetime': '2025-10-11T16:45:32.278588', 'gensim': '4.3.3', 'python': '3.10.18 | packaged by conda-forge | (main, Jun  4 2025, 14:46:00) [Clang 18.1.8 ]', 'platform': 'macOS-26.0.1-arm64-arm-64bit', 'event': 'build_vocab'}\n",
      "INFO:gensim.utils:Word2Vec lifecycle event {'msg': 'training model with 4 workers on 8499 vocabulary and 300 features, using sg=0 hs=0 sample=0.001 negative=5 window=5 shrink_windows=True', 'datetime': '2025-10-11T16:45:32.278837', 'gensim': '4.3.3', 'python': '3.10.18 | packaged by conda-forge | (main, Jun  4 2025, 14:46:00) [Clang 18.1.8 ]', 'platform': 'macOS-26.0.1-arm64-arm-64bit', 'event': 'train'}\n"
     ]
    },
    {
     "name": "stdout",
     "output_type": "stream",
     "text": [
      "Saved trainable_fasttext_tfidf results to Artifacts/binary/binary_trainable_fasttext_tfidf_300f.joblib\n",
      "\n",
      "Multiclass classification (issue_area)\n",
      "→ Vectorizing multiclass task with word2vec_avg ...\n"
     ]
    },
    {
     "name": "stderr",
     "output_type": "stream",
     "text": [
      "INFO:gensim.models.word2vec:EPOCH 0: training on 206121 raw words (180802 effective words) took 0.1s, 2123913 effective words/s\n",
      "INFO:gensim.models.word2vec:EPOCH 1: training on 206121 raw words (180647 effective words) took 0.1s, 2101713 effective words/s\n",
      "INFO:gensim.models.word2vec:EPOCH 2: training on 206121 raw words (180712 effective words) took 0.1s, 2097559 effective words/s\n",
      "INFO:gensim.models.word2vec:EPOCH 3: training on 206121 raw words (180798 effective words) took 0.1s, 2024426 effective words/s\n",
      "INFO:gensim.models.word2vec:EPOCH 4: training on 206121 raw words (180718 effective words) took 0.1s, 2015571 effective words/s\n",
      "INFO:gensim.utils:Word2Vec lifecycle event {'msg': 'training on 1030605 raw words (903677 effective words) took 0.4s, 2035313 effective words/s', 'datetime': '2025-10-11T16:45:32.723022', 'gensim': '4.3.3', 'python': '3.10.18 | packaged by conda-forge | (main, Jun  4 2025, 14:46:00) [Clang 18.1.8 ]', 'platform': 'macOS-26.0.1-arm64-arm-64bit', 'event': 'train'}\n",
      "INFO:gensim.utils:Word2Vec lifecycle event {'params': 'Word2Vec<vocab=8499, vector_size=300, alpha=0.025>', 'datetime': '2025-10-11T16:45:32.723225', 'gensim': '4.3.3', 'python': '3.10.18 | packaged by conda-forge | (main, Jun  4 2025, 14:46:00) [Clang 18.1.8 ]', 'platform': 'macOS-26.0.1-arm64-arm-64bit', 'event': 'created'}\n",
      "INFO:gensim.models.word2vec:collecting all words and their counts\n",
      "INFO:gensim.models.word2vec:PROGRESS: at sentence #0, processed 0 words, keeping 0 word types\n",
      "INFO:gensim.models.word2vec:collected 12919 word types from a corpus of 206121 raw words and 2212 sentences\n",
      "INFO:gensim.models.word2vec:Creating a fresh vocabulary\n",
      "INFO:gensim.utils:Word2Vec lifecycle event {'msg': 'effective_min_count=2 retains 8499 unique words (65.79% of original 12919, drops 4420)', 'datetime': '2025-10-11T16:45:33.108139', 'gensim': '4.3.3', 'python': '3.10.18 | packaged by conda-forge | (main, Jun  4 2025, 14:46:00) [Clang 18.1.8 ]', 'platform': 'macOS-26.0.1-arm64-arm-64bit', 'event': 'prepare_vocab'}\n",
      "INFO:gensim.utils:Word2Vec lifecycle event {'msg': 'effective_min_count=2 leaves 201701 word corpus (97.86% of original 206121, drops 4420)', 'datetime': '2025-10-11T16:45:33.108516', 'gensim': '4.3.3', 'python': '3.10.18 | packaged by conda-forge | (main, Jun  4 2025, 14:46:00) [Clang 18.1.8 ]', 'platform': 'macOS-26.0.1-arm64-arm-64bit', 'event': 'prepare_vocab'}\n",
      "INFO:gensim.models.word2vec:deleting the raw counts dictionary of 12919 items\n",
      "INFO:gensim.models.word2vec:sample=0.001 downsamples 43 most-common words\n",
      "INFO:gensim.utils:Word2Vec lifecycle event {'msg': 'downsampling leaves estimated 180841.40942621103 word corpus (89.7%% of prior 201701)', 'datetime': '2025-10-11T16:45:33.123779', 'gensim': '4.3.3', 'python': '3.10.18 | packaged by conda-forge | (main, Jun  4 2025, 14:46:00) [Clang 18.1.8 ]', 'platform': 'macOS-26.0.1-arm64-arm-64bit', 'event': 'prepare_vocab'}\n",
      "INFO:gensim.models.word2vec:estimated required memory for 8499 words and 300 dimensions: 24647100 bytes\n",
      "INFO:gensim.models.word2vec:resetting layer weights\n",
      "INFO:gensim.utils:Word2Vec lifecycle event {'update': False, 'trim_rule': 'None', 'datetime': '2025-10-11T16:45:33.152606', 'gensim': '4.3.3', 'python': '3.10.18 | packaged by conda-forge | (main, Jun  4 2025, 14:46:00) [Clang 18.1.8 ]', 'platform': 'macOS-26.0.1-arm64-arm-64bit', 'event': 'build_vocab'}\n",
      "INFO:gensim.utils:Word2Vec lifecycle event {'msg': 'training model with 4 workers on 8499 vocabulary and 300 features, using sg=0 hs=0 sample=0.001 negative=5 window=5 shrink_windows=True', 'datetime': '2025-10-11T16:45:33.152830', 'gensim': '4.3.3', 'python': '3.10.18 | packaged by conda-forge | (main, Jun  4 2025, 14:46:00) [Clang 18.1.8 ]', 'platform': 'macOS-26.0.1-arm64-arm-64bit', 'event': 'train'}\n"
     ]
    },
    {
     "name": "stdout",
     "output_type": "stream",
     "text": [
      "Saved word2vec_avg results to Artifacts/multiclass/multiclass_word2vec_avg_300f.joblib\n",
      "→ Vectorizing multiclass task with word2vec_tfidf ...\n"
     ]
    },
    {
     "name": "stderr",
     "output_type": "stream",
     "text": [
      "INFO:gensim.models.word2vec:EPOCH 0: training on 206121 raw words (180877 effective words) took 0.1s, 1859040 effective words/s\n",
      "INFO:gensim.models.word2vec:EPOCH 1: training on 206121 raw words (180810 effective words) took 0.1s, 2000041 effective words/s\n",
      "INFO:gensim.models.word2vec:EPOCH 2: training on 206121 raw words (180823 effective words) took 0.1s, 2096530 effective words/s\n",
      "INFO:gensim.models.word2vec:EPOCH 3: training on 206121 raw words (180857 effective words) took 0.1s, 2129123 effective words/s\n",
      "INFO:gensim.models.word2vec:EPOCH 4: training on 206121 raw words (180778 effective words) took 0.1s, 2194412 effective words/s\n",
      "INFO:gensim.utils:Word2Vec lifecycle event {'msg': 'training on 1030605 raw words (904145 effective words) took 0.5s, 2007375 effective words/s', 'datetime': '2025-10-11T16:45:33.603456', 'gensim': '4.3.3', 'python': '3.10.18 | packaged by conda-forge | (main, Jun  4 2025, 14:46:00) [Clang 18.1.8 ]', 'platform': 'macOS-26.0.1-arm64-arm-64bit', 'event': 'train'}\n",
      "INFO:gensim.utils:Word2Vec lifecycle event {'params': 'Word2Vec<vocab=8499, vector_size=300, alpha=0.025>', 'datetime': '2025-10-11T16:45:33.603721', 'gensim': '4.3.3', 'python': '3.10.18 | packaged by conda-forge | (main, Jun  4 2025, 14:46:00) [Clang 18.1.8 ]', 'platform': 'macOS-26.0.1-arm64-arm-64bit', 'event': 'created'}\n",
      "INFO:gensim.models.word2vec:collecting all words and their counts\n",
      "INFO:gensim.models.word2vec:PROGRESS: at sentence #0, processed 0 words, keeping 0 word types\n",
      "INFO:gensim.models.word2vec:collected 12919 word types from a corpus of 206121 raw words and 2212 sentences\n",
      "INFO:gensim.models.word2vec:Creating a fresh vocabulary\n",
      "INFO:gensim.utils:FastText lifecycle event {'msg': 'effective_min_count=2 retains 8499 unique words (65.79% of original 12919, drops 4420)', 'datetime': '2025-10-11T16:45:34.256547', 'gensim': '4.3.3', 'python': '3.10.18 | packaged by conda-forge | (main, Jun  4 2025, 14:46:00) [Clang 18.1.8 ]', 'platform': 'macOS-26.0.1-arm64-arm-64bit', 'event': 'prepare_vocab'}\n",
      "INFO:gensim.utils:FastText lifecycle event {'msg': 'effective_min_count=2 leaves 201701 word corpus (97.86% of original 206121, drops 4420)', 'datetime': '2025-10-11T16:45:34.256882', 'gensim': '4.3.3', 'python': '3.10.18 | packaged by conda-forge | (main, Jun  4 2025, 14:46:00) [Clang 18.1.8 ]', 'platform': 'macOS-26.0.1-arm64-arm-64bit', 'event': 'prepare_vocab'}\n",
      "INFO:gensim.models.word2vec:deleting the raw counts dictionary of 12919 items\n",
      "INFO:gensim.models.word2vec:sample=0.001 downsamples 43 most-common words\n",
      "INFO:gensim.utils:FastText lifecycle event {'msg': 'downsampling leaves estimated 180841.40942621103 word corpus (89.7%% of prior 201701)', 'datetime': '2025-10-11T16:45:34.271766', 'gensim': '4.3.3', 'python': '3.10.18 | packaged by conda-forge | (main, Jun  4 2025, 14:46:00) [Clang 18.1.8 ]', 'platform': 'macOS-26.0.1-arm64-arm-64bit', 'event': 'prepare_vocab'}\n",
      "INFO:gensim.models.fasttext:estimated required memory for 8499 words, 2000000 buckets and 300 dimensions: 2426262736 bytes\n",
      "INFO:gensim.models.word2vec:resetting layer weights\n"
     ]
    },
    {
     "name": "stdout",
     "output_type": "stream",
     "text": [
      "Saved word2vec_tfidf results to Artifacts/multiclass/multiclass_word2vec_tfidf_300f.joblib\n",
      "→ Vectorizing multiclass task with fasttext_avg ...\n"
     ]
    },
    {
     "name": "stderr",
     "output_type": "stream",
     "text": [
      "INFO:gensim.utils:FastText lifecycle event {'update': False, 'trim_rule': 'None', 'datetime': '2025-10-11T16:45:35.855434', 'gensim': '4.3.3', 'python': '3.10.18 | packaged by conda-forge | (main, Jun  4 2025, 14:46:00) [Clang 18.1.8 ]', 'platform': 'macOS-26.0.1-arm64-arm-64bit', 'event': 'build_vocab'}\n",
      "INFO:gensim.utils:FastText lifecycle event {'msg': 'training model with 4 workers on 8499 vocabulary and 300 features, using sg=0 hs=0 sample=0.001 negative=5 window=5 shrink_windows=True', 'datetime': '2025-10-11T16:45:35.855868', 'gensim': '4.3.3', 'python': '3.10.18 | packaged by conda-forge | (main, Jun  4 2025, 14:46:00) [Clang 18.1.8 ]', 'platform': 'macOS-26.0.1-arm64-arm-64bit', 'event': 'train'}\n",
      "INFO:gensim.models.word2vec:EPOCH 0: training on 206121 raw words (180777 effective words) took 0.6s, 281179 effective words/s\n",
      "INFO:gensim.models.word2vec:EPOCH 1: training on 206121 raw words (180800 effective words) took 0.6s, 282665 effective words/s\n",
      "INFO:gensim.models.word2vec:EPOCH 2: training on 206121 raw words (180868 effective words) took 0.6s, 297873 effective words/s\n",
      "INFO:gensim.models.word2vec:EPOCH 3: training on 206121 raw words (180697 effective words) took 0.6s, 310405 effective words/s\n",
      "INFO:gensim.models.word2vec:EPOCH 4: training on 206121 raw words (180715 effective words) took 0.6s, 294729 effective words/s\n",
      "INFO:gensim.utils:FastText lifecycle event {'msg': 'training on 1030605 raw words (903857 effective words) took 3.1s, 292231 effective words/s', 'datetime': '2025-10-11T16:45:38.949125', 'gensim': '4.3.3', 'python': '3.10.18 | packaged by conda-forge | (main, Jun  4 2025, 14:46:00) [Clang 18.1.8 ]', 'platform': 'macOS-26.0.1-arm64-arm-64bit', 'event': 'train'}\n",
      "INFO:gensim.utils:FastText lifecycle event {'params': 'FastText<vocab=8499, vector_size=300, alpha=0.025>', 'datetime': '2025-10-11T16:45:39.073392', 'gensim': '4.3.3', 'python': '3.10.18 | packaged by conda-forge | (main, Jun  4 2025, 14:46:00) [Clang 18.1.8 ]', 'platform': 'macOS-26.0.1-arm64-arm-64bit', 'event': 'created'}\n",
      "INFO:gensim.models.word2vec:collecting all words and their counts\n",
      "INFO:gensim.models.word2vec:PROGRESS: at sentence #0, processed 0 words, keeping 0 word types\n",
      "INFO:gensim.models.word2vec:collected 12919 word types from a corpus of 206121 raw words and 2212 sentences\n",
      "INFO:gensim.models.word2vec:Creating a fresh vocabulary\n",
      "INFO:gensim.utils:FastText lifecycle event {'msg': 'effective_min_count=2 retains 8499 unique words (65.79% of original 12919, drops 4420)', 'datetime': '2025-10-11T16:45:39.638382', 'gensim': '4.3.3', 'python': '3.10.18 | packaged by conda-forge | (main, Jun  4 2025, 14:46:00) [Clang 18.1.8 ]', 'platform': 'macOS-26.0.1-arm64-arm-64bit', 'event': 'prepare_vocab'}\n",
      "INFO:gensim.utils:FastText lifecycle event {'msg': 'effective_min_count=2 leaves 201701 word corpus (97.86% of original 206121, drops 4420)', 'datetime': '2025-10-11T16:45:39.638717', 'gensim': '4.3.3', 'python': '3.10.18 | packaged by conda-forge | (main, Jun  4 2025, 14:46:00) [Clang 18.1.8 ]', 'platform': 'macOS-26.0.1-arm64-arm-64bit', 'event': 'prepare_vocab'}\n",
      "INFO:gensim.models.word2vec:deleting the raw counts dictionary of 12919 items\n",
      "INFO:gensim.models.word2vec:sample=0.001 downsamples 43 most-common words\n",
      "INFO:gensim.utils:FastText lifecycle event {'msg': 'downsampling leaves estimated 180841.40942621103 word corpus (89.7%% of prior 201701)', 'datetime': '2025-10-11T16:45:39.654020', 'gensim': '4.3.3', 'python': '3.10.18 | packaged by conda-forge | (main, Jun  4 2025, 14:46:00) [Clang 18.1.8 ]', 'platform': 'macOS-26.0.1-arm64-arm-64bit', 'event': 'prepare_vocab'}\n",
      "INFO:gensim.models.fasttext:estimated required memory for 8499 words, 2000000 buckets and 300 dimensions: 2426262736 bytes\n",
      "INFO:gensim.models.word2vec:resetting layer weights\n"
     ]
    },
    {
     "name": "stdout",
     "output_type": "stream",
     "text": [
      "Saved fasttext_avg results to Artifacts/multiclass/multiclass_fasttext_avg_300f.joblib\n",
      "→ Vectorizing multiclass task with fasttext_tfidf ...\n"
     ]
    },
    {
     "name": "stderr",
     "output_type": "stream",
     "text": [
      "INFO:gensim.utils:FastText lifecycle event {'update': False, 'trim_rule': 'None', 'datetime': '2025-10-11T16:45:41.233883', 'gensim': '4.3.3', 'python': '3.10.18 | packaged by conda-forge | (main, Jun  4 2025, 14:46:00) [Clang 18.1.8 ]', 'platform': 'macOS-26.0.1-arm64-arm-64bit', 'event': 'build_vocab'}\n",
      "INFO:gensim.utils:FastText lifecycle event {'msg': 'training model with 4 workers on 8499 vocabulary and 300 features, using sg=0 hs=0 sample=0.001 negative=5 window=5 shrink_windows=True', 'datetime': '2025-10-11T16:45:41.234333', 'gensim': '4.3.3', 'python': '3.10.18 | packaged by conda-forge | (main, Jun  4 2025, 14:46:00) [Clang 18.1.8 ]', 'platform': 'macOS-26.0.1-arm64-arm-64bit', 'event': 'train'}\n",
      "INFO:gensim.models.word2vec:EPOCH 0: training on 206121 raw words (180803 effective words) took 0.6s, 292815 effective words/s\n",
      "INFO:gensim.models.word2vec:EPOCH 1: training on 206121 raw words (180729 effective words) took 0.6s, 292333 effective words/s\n",
      "INFO:gensim.models.word2vec:EPOCH 2: training on 206121 raw words (180909 effective words) took 0.6s, 309563 effective words/s\n",
      "INFO:gensim.models.word2vec:EPOCH 3: training on 206121 raw words (180805 effective words) took 0.6s, 307958 effective words/s\n",
      "INFO:gensim.models.word2vec:EPOCH 4: training on 206121 raw words (180894 effective words) took 0.6s, 303988 effective words/s\n",
      "INFO:gensim.utils:FastText lifecycle event {'msg': 'training on 1030605 raw words (904140 effective words) took 3.0s, 299951 effective words/s', 'datetime': '2025-10-11T16:45:44.248904', 'gensim': '4.3.3', 'python': '3.10.18 | packaged by conda-forge | (main, Jun  4 2025, 14:46:00) [Clang 18.1.8 ]', 'platform': 'macOS-26.0.1-arm64-arm-64bit', 'event': 'train'}\n",
      "INFO:gensim.utils:FastText lifecycle event {'params': 'FastText<vocab=8499, vector_size=300, alpha=0.025>', 'datetime': '2025-10-11T16:45:44.372221', 'gensim': '4.3.3', 'python': '3.10.18 | packaged by conda-forge | (main, Jun  4 2025, 14:46:00) [Clang 18.1.8 ]', 'platform': 'macOS-26.0.1-arm64-arm-64bit', 'event': 'created'}\n",
      "INFO:gensim.models.keyedvectors:loading projection weights from /Users/fpmuga/gensim-data/glove-wiki-gigaword-300/glove-wiki-gigaword-300.gz\n"
     ]
    },
    {
     "name": "stdout",
     "output_type": "stream",
     "text": [
      "Saved fasttext_tfidf results to Artifacts/multiclass/multiclass_fasttext_tfidf_300f.joblib\n",
      "→ Vectorizing multiclass task with glove_avg ...\n"
     ]
    },
    {
     "name": "stderr",
     "output_type": "stream",
     "text": [
      "INFO:gensim.utils:KeyedVectors lifecycle event {'msg': 'loaded (400000, 300) matrix of type float32 from /Users/fpmuga/gensim-data/glove-wiki-gigaword-300/glove-wiki-gigaword-300.gz', 'binary': False, 'encoding': 'utf8', 'datetime': '2025-10-11T16:46:13.193160', 'gensim': '4.3.3', 'python': '3.10.18 | packaged by conda-forge | (main, Jun  4 2025, 14:46:00) [Clang 18.1.8 ]', 'platform': 'macOS-26.0.1-arm64-arm-64bit', 'event': 'load_word2vec_format'}\n",
      "INFO:gensim.models.keyedvectors:loading projection weights from /Users/fpmuga/gensim-data/glove-wiki-gigaword-300/glove-wiki-gigaword-300.gz\n"
     ]
    },
    {
     "name": "stdout",
     "output_type": "stream",
     "text": [
      "Saved glove_avg results to Artifacts/multiclass/multiclass_glove_avg_300f.joblib\n",
      "→ Vectorizing multiclass task with glove_tfidf ...\n"
     ]
    },
    {
     "name": "stderr",
     "output_type": "stream",
     "text": [
      "INFO:gensim.utils:KeyedVectors lifecycle event {'msg': 'loaded (400000, 300) matrix of type float32 from /Users/fpmuga/gensim-data/glove-wiki-gigaword-300/glove-wiki-gigaword-300.gz', 'binary': False, 'encoding': 'utf8', 'datetime': '2025-10-11T16:46:41.870072', 'gensim': '4.3.3', 'python': '3.10.18 | packaged by conda-forge | (main, Jun  4 2025, 14:46:00) [Clang 18.1.8 ]', 'platform': 'macOS-26.0.1-arm64-arm-64bit', 'event': 'load_word2vec_format'}\n",
      "INFO:gensim.models.word2vec:collecting all words and their counts\n",
      "INFO:gensim.models.word2vec:PROGRESS: at sentence #0, processed 0 words, keeping 0 word types\n",
      "INFO:gensim.models.word2vec:collected 12919 word types from a corpus of 206121 raw words and 2212 sentences\n",
      "INFO:gensim.models.word2vec:Creating a fresh vocabulary\n",
      "INFO:gensim.utils:Word2Vec lifecycle event {'msg': 'effective_min_count=1 retains 12919 unique words (100.00% of original 12919, drops 0)', 'datetime': '2025-10-11T16:46:42.472964', 'gensim': '4.3.3', 'python': '3.10.18 | packaged by conda-forge | (main, Jun  4 2025, 14:46:00) [Clang 18.1.8 ]', 'platform': 'macOS-26.0.1-arm64-arm-64bit', 'event': 'prepare_vocab'}\n",
      "INFO:gensim.utils:Word2Vec lifecycle event {'msg': 'effective_min_count=1 leaves 206121 word corpus (100.00% of original 206121, drops 0)', 'datetime': '2025-10-11T16:46:42.473381', 'gensim': '4.3.3', 'python': '3.10.18 | packaged by conda-forge | (main, Jun  4 2025, 14:46:00) [Clang 18.1.8 ]', 'platform': 'macOS-26.0.1-arm64-arm-64bit', 'event': 'prepare_vocab'}\n",
      "INFO:gensim.models.word2vec:deleting the raw counts dictionary of 12919 items\n",
      "INFO:gensim.models.word2vec:sample=0.001 downsamples 41 most-common words\n",
      "INFO:gensim.utils:Word2Vec lifecycle event {'msg': 'downsampling leaves estimated 185654.81570158066 word corpus (90.1%% of prior 206121)', 'datetime': '2025-10-11T16:46:42.497197', 'gensim': '4.3.3', 'python': '3.10.18 | packaged by conda-forge | (main, Jun  4 2025, 14:46:00) [Clang 18.1.8 ]', 'platform': 'macOS-26.0.1-arm64-arm-64bit', 'event': 'prepare_vocab'}\n",
      "INFO:gensim.models.word2vec:estimated required memory for 12919 words and 300 dimensions: 37465100 bytes\n",
      "INFO:gensim.models.word2vec:resetting layer weights\n",
      "INFO:gensim.utils:Word2Vec lifecycle event {'update': False, 'trim_rule': 'None', 'datetime': '2025-10-11T16:46:42.541591', 'gensim': '4.3.3', 'python': '3.10.18 | packaged by conda-forge | (main, Jun  4 2025, 14:46:00) [Clang 18.1.8 ]', 'platform': 'macOS-26.0.1-arm64-arm-64bit', 'event': 'build_vocab'}\n",
      "INFO:gensim.utils:Word2Vec lifecycle event {'msg': 'training model with 4 workers on 12919 vocabulary and 300 features, using sg=0 hs=0 sample=0.001 negative=5 window=5 shrink_windows=True', 'datetime': '2025-10-11T16:46:42.542012', 'gensim': '4.3.3', 'python': '3.10.18 | packaged by conda-forge | (main, Jun  4 2025, 14:46:00) [Clang 18.1.8 ]', 'platform': 'macOS-26.0.1-arm64-arm-64bit', 'event': 'train'}\n"
     ]
    },
    {
     "name": "stdout",
     "output_type": "stream",
     "text": [
      "Saved glove_tfidf results to Artifacts/multiclass/multiclass_glove_tfidf_300f.joblib\n",
      "→ Vectorizing multiclass task with trainable_fasttext_avg ...\n"
     ]
    },
    {
     "name": "stderr",
     "output_type": "stream",
     "text": [
      "INFO:gensim.models.word2vec:EPOCH 0: training on 206121 raw words (185810 effective words) took 0.1s, 1881061 effective words/s\n",
      "INFO:gensim.models.word2vec:EPOCH 1: training on 206121 raw words (185735 effective words) took 0.1s, 1871341 effective words/s\n",
      "INFO:gensim.models.word2vec:EPOCH 2: training on 206121 raw words (185642 effective words) took 0.1s, 2010462 effective words/s\n",
      "INFO:gensim.models.word2vec:EPOCH 3: training on 206121 raw words (185619 effective words) took 0.1s, 1956910 effective words/s\n",
      "INFO:gensim.models.word2vec:EPOCH 4: training on 206121 raw words (185577 effective words) took 0.1s, 2035847 effective words/s\n",
      "INFO:gensim.models.word2vec:EPOCH 5: training on 206121 raw words (185416 effective words) took 0.1s, 1979137 effective words/s\n",
      "INFO:gensim.models.word2vec:EPOCH 6: training on 206121 raw words (185598 effective words) took 0.1s, 2031093 effective words/s\n",
      "INFO:gensim.models.word2vec:EPOCH 7: training on 206121 raw words (185699 effective words) took 0.1s, 2045832 effective words/s\n",
      "INFO:gensim.models.word2vec:EPOCH 8: training on 206121 raw words (185689 effective words) took 0.1s, 2109955 effective words/s\n",
      "INFO:gensim.models.word2vec:EPOCH 9: training on 206121 raw words (185567 effective words) took 0.1s, 1914448 effective words/s\n",
      "INFO:gensim.models.word2vec:EPOCH 10: training on 206121 raw words (185721 effective words) took 0.1s, 2031030 effective words/s\n",
      "INFO:gensim.models.word2vec:EPOCH 11: training on 206121 raw words (185699 effective words) took 0.1s, 1936013 effective words/s\n",
      "INFO:gensim.models.word2vec:EPOCH 12: training on 206121 raw words (185627 effective words) took 0.1s, 2008277 effective words/s\n",
      "INFO:gensim.models.word2vec:EPOCH 13: training on 206121 raw words (185700 effective words) took 0.1s, 1984187 effective words/s\n",
      "INFO:gensim.models.word2vec:EPOCH 14: training on 206121 raw words (185540 effective words) took 0.1s, 1992576 effective words/s\n",
      "INFO:gensim.models.word2vec:EPOCH 15: training on 206121 raw words (185691 effective words) took 0.1s, 1941606 effective words/s\n",
      "INFO:gensim.models.word2vec:EPOCH 16: training on 206121 raw words (185719 effective words) took 0.1s, 1910765 effective words/s\n",
      "INFO:gensim.models.word2vec:EPOCH 17: training on 206121 raw words (185864 effective words) took 0.1s, 2026788 effective words/s\n",
      "INFO:gensim.models.word2vec:EPOCH 18: training on 206121 raw words (185749 effective words) took 0.1s, 2096398 effective words/s\n",
      "INFO:gensim.models.word2vec:EPOCH 19: training on 206121 raw words (185589 effective words) took 0.1s, 1962766 effective words/s\n",
      "INFO:gensim.utils:Word2Vec lifecycle event {'msg': 'training on 4122420 raw words (3713251 effective words) took 1.9s, 1948043 effective words/s', 'datetime': '2025-10-11T16:46:44.448348', 'gensim': '4.3.3', 'python': '3.10.18 | packaged by conda-forge | (main, Jun  4 2025, 14:46:00) [Clang 18.1.8 ]', 'platform': 'macOS-26.0.1-arm64-arm-64bit', 'event': 'train'}\n",
      "INFO:gensim.utils:Word2Vec lifecycle event {'params': 'Word2Vec<vocab=12919, vector_size=300, alpha=0.025>', 'datetime': '2025-10-11T16:46:44.448671', 'gensim': '4.3.3', 'python': '3.10.18 | packaged by conda-forge | (main, Jun  4 2025, 14:46:00) [Clang 18.1.8 ]', 'platform': 'macOS-26.0.1-arm64-arm-64bit', 'event': 'created'}\n",
      "INFO:gensim.models.word2vec:collecting all words and their counts\n",
      "INFO:gensim.models.word2vec:PROGRESS: at sentence #0, processed 0 words, keeping 0 word types\n",
      "INFO:gensim.models.word2vec:collected 12919 word types from a corpus of 206121 raw words and 2212 sentences\n",
      "INFO:gensim.models.word2vec:Creating a fresh vocabulary\n",
      "INFO:gensim.utils:FastText lifecycle event {'msg': 'effective_min_count=1 retains 12919 unique words (100.00% of original 12919, drops 0)', 'datetime': '2025-10-11T16:46:44.863260', 'gensim': '4.3.3', 'python': '3.10.18 | packaged by conda-forge | (main, Jun  4 2025, 14:46:00) [Clang 18.1.8 ]', 'platform': 'macOS-26.0.1-arm64-arm-64bit', 'event': 'prepare_vocab'}\n",
      "INFO:gensim.utils:FastText lifecycle event {'msg': 'effective_min_count=1 leaves 206121 word corpus (100.00% of original 206121, drops 0)', 'datetime': '2025-10-11T16:46:44.863635', 'gensim': '4.3.3', 'python': '3.10.18 | packaged by conda-forge | (main, Jun  4 2025, 14:46:00) [Clang 18.1.8 ]', 'platform': 'macOS-26.0.1-arm64-arm-64bit', 'event': 'prepare_vocab'}\n",
      "INFO:gensim.models.word2vec:deleting the raw counts dictionary of 12919 items\n",
      "INFO:gensim.models.word2vec:sample=0.001 downsamples 41 most-common words\n",
      "INFO:gensim.utils:FastText lifecycle event {'msg': 'downsampling leaves estimated 185654.81570158066 word corpus (90.1%% of prior 206121)', 'datetime': '2025-10-11T16:46:44.887707', 'gensim': '4.3.3', 'python': '3.10.18 | packaged by conda-forge | (main, Jun  4 2025, 14:46:00) [Clang 18.1.8 ]', 'platform': 'macOS-26.0.1-arm64-arm-64bit', 'event': 'prepare_vocab'}\n"
     ]
    },
    {
     "name": "stdout",
     "output_type": "stream",
     "text": [
      "Saved trainable_fasttext_avg results to Artifacts/multiclass/multiclass_trainable_fasttext_avg_300f.joblib\n",
      "→ Vectorizing multiclass task with trainable_fasttext_tfidf ...\n"
     ]
    },
    {
     "name": "stderr",
     "output_type": "stream",
     "text": [
      "INFO:gensim.models.fasttext:estimated required memory for 12919 words, 2000000 buckets and 300 dimensions: 2439962364 bytes\n",
      "INFO:gensim.models.word2vec:resetting layer weights\n",
      "INFO:gensim.utils:FastText lifecycle event {'update': False, 'trim_rule': 'None', 'datetime': '2025-10-11T16:46:46.585091', 'gensim': '4.3.3', 'python': '3.10.18 | packaged by conda-forge | (main, Jun  4 2025, 14:46:00) [Clang 18.1.8 ]', 'platform': 'macOS-26.0.1-arm64-arm-64bit', 'event': 'build_vocab'}\n",
      "INFO:gensim.utils:FastText lifecycle event {'msg': 'training model with 4 workers on 12919 vocabulary and 300 features, using sg=0 hs=0 sample=0.001 negative=5 window=5 shrink_windows=True', 'datetime': '2025-10-11T16:46:46.585536', 'gensim': '4.3.3', 'python': '3.10.18 | packaged by conda-forge | (main, Jun  4 2025, 14:46:00) [Clang 18.1.8 ]', 'platform': 'macOS-26.0.1-arm64-arm-64bit', 'event': 'train'}\n",
      "INFO:gensim.models.word2vec:EPOCH 0: training on 206121 raw words (185810 effective words) took 0.6s, 289176 effective words/s\n",
      "INFO:gensim.models.word2vec:EPOCH 1: training on 206121 raw words (185834 effective words) took 0.6s, 289028 effective words/s\n",
      "INFO:gensim.models.word2vec:EPOCH 2: training on 206121 raw words (185646 effective words) took 0.6s, 296820 effective words/s\n",
      "INFO:gensim.models.word2vec:EPOCH 3: training on 206121 raw words (185672 effective words) took 0.6s, 301585 effective words/s\n",
      "INFO:gensim.models.word2vec:EPOCH 4: training on 206121 raw words (185770 effective words) took 0.6s, 287666 effective words/s\n",
      "INFO:gensim.models.word2vec:EPOCH 5: training on 206121 raw words (185832 effective words) took 0.7s, 284772 effective words/s\n",
      "INFO:gensim.models.word2vec:EPOCH 6: training on 206121 raw words (185677 effective words) took 0.6s, 290290 effective words/s\n",
      "INFO:gensim.models.word2vec:EPOCH 7: training on 206121 raw words (185671 effective words) took 0.6s, 288624 effective words/s\n",
      "INFO:gensim.models.word2vec:EPOCH 8: training on 206121 raw words (185562 effective words) took 0.7s, 285441 effective words/s\n",
      "INFO:gensim.models.word2vec:EPOCH 9: training on 206121 raw words (185713 effective words) took 0.7s, 285286 effective words/s\n",
      "INFO:gensim.models.word2vec:EPOCH 10: training on 206121 raw words (185562 effective words) took 0.6s, 296068 effective words/s\n",
      "INFO:gensim.models.word2vec:EPOCH 11: training on 206121 raw words (185633 effective words) took 0.7s, 272745 effective words/s\n",
      "INFO:gensim.models.word2vec:EPOCH 12: training on 206121 raw words (185663 effective words) took 0.7s, 265474 effective words/s\n",
      "INFO:gensim.models.word2vec:EPOCH 13: training on 206121 raw words (185595 effective words) took 0.7s, 271510 effective words/s\n",
      "INFO:gensim.models.word2vec:EPOCH 14: training on 206121 raw words (185729 effective words) took 0.7s, 271116 effective words/s\n",
      "INFO:gensim.models.word2vec:EPOCH 15: training on 206121 raw words (185685 effective words) took 0.6s, 291796 effective words/s\n",
      "INFO:gensim.models.word2vec:EPOCH 16: training on 206121 raw words (185630 effective words) took 0.6s, 292503 effective words/s\n",
      "INFO:gensim.models.word2vec:EPOCH 17: training on 206121 raw words (185669 effective words) took 0.6s, 294044 effective words/s\n",
      "INFO:gensim.models.word2vec:EPOCH 18: training on 206121 raw words (185595 effective words) took 0.6s, 293012 effective words/s\n",
      "INFO:gensim.models.word2vec:EPOCH 19: training on 206121 raw words (185532 effective words) took 0.6s, 293737 effective words/s\n",
      "INFO:gensim.utils:FastText lifecycle event {'msg': 'training on 4122420 raw words (3713480 effective words) took 13.0s, 285886 effective words/s', 'datetime': '2025-10-11T16:46:59.575260', 'gensim': '4.3.3', 'python': '3.10.18 | packaged by conda-forge | (main, Jun  4 2025, 14:46:00) [Clang 18.1.8 ]', 'platform': 'macOS-26.0.1-arm64-arm-64bit', 'event': 'train'}\n",
      "INFO:gensim.utils:FastText lifecycle event {'params': 'FastText<vocab=12919, vector_size=300, alpha=0.025>', 'datetime': '2025-10-11T16:46:59.746966', 'gensim': '4.3.3', 'python': '3.10.18 | packaged by conda-forge | (main, Jun  4 2025, 14:46:00) [Clang 18.1.8 ]', 'platform': 'macOS-26.0.1-arm64-arm-64bit', 'event': 'created'}\n",
      "INFO:gensim.models.word2vec:collecting all words and their counts\n",
      "INFO:gensim.models.word2vec:PROGRESS: at sentence #0, processed 0 words, keeping 0 word types\n",
      "INFO:gensim.models.word2vec:collected 12996 word types from a corpus of 210531 raw words and 2270 sentences\n",
      "INFO:gensim.models.word2vec:Creating a fresh vocabulary\n",
      "INFO:gensim.utils:Word2Vec lifecycle event {'msg': 'effective_min_count=2 retains 8615 unique words (66.29% of original 12996, drops 4381)', 'datetime': '2025-10-11T16:47:00.390821', 'gensim': '4.3.3', 'python': '3.10.18 | packaged by conda-forge | (main, Jun  4 2025, 14:46:00) [Clang 18.1.8 ]', 'platform': 'macOS-26.0.1-arm64-arm-64bit', 'event': 'prepare_vocab'}\n",
      "INFO:gensim.utils:Word2Vec lifecycle event {'msg': 'effective_min_count=2 leaves 206150 word corpus (97.92% of original 210531, drops 4381)', 'datetime': '2025-10-11T16:47:00.391146', 'gensim': '4.3.3', 'python': '3.10.18 | packaged by conda-forge | (main, Jun  4 2025, 14:46:00) [Clang 18.1.8 ]', 'platform': 'macOS-26.0.1-arm64-arm-64bit', 'event': 'prepare_vocab'}\n",
      "INFO:gensim.models.word2vec:deleting the raw counts dictionary of 12996 items\n",
      "INFO:gensim.models.word2vec:sample=0.001 downsamples 45 most-common words\n",
      "INFO:gensim.utils:Word2Vec lifecycle event {'msg': 'downsampling leaves estimated 185010.27027878078 word corpus (89.7%% of prior 206150)', 'datetime': '2025-10-11T16:47:00.407404', 'gensim': '4.3.3', 'python': '3.10.18 | packaged by conda-forge | (main, Jun  4 2025, 14:46:00) [Clang 18.1.8 ]', 'platform': 'macOS-26.0.1-arm64-arm-64bit', 'event': 'prepare_vocab'}\n",
      "INFO:gensim.models.word2vec:estimated required memory for 8615 words and 300 dimensions: 24983500 bytes\n",
      "INFO:gensim.models.word2vec:resetting layer weights\n",
      "INFO:gensim.utils:Word2Vec lifecycle event {'update': False, 'trim_rule': 'None', 'datetime': '2025-10-11T16:47:00.437153', 'gensim': '4.3.3', 'python': '3.10.18 | packaged by conda-forge | (main, Jun  4 2025, 14:46:00) [Clang 18.1.8 ]', 'platform': 'macOS-26.0.1-arm64-arm-64bit', 'event': 'build_vocab'}\n",
      "INFO:gensim.utils:Word2Vec lifecycle event {'msg': 'training model with 4 workers on 8615 vocabulary and 300 features, using sg=0 hs=0 sample=0.001 negative=5 window=5 shrink_windows=True', 'datetime': '2025-10-11T16:47:00.437464', 'gensim': '4.3.3', 'python': '3.10.18 | packaged by conda-forge | (main, Jun  4 2025, 14:46:00) [Clang 18.1.8 ]', 'platform': 'macOS-26.0.1-arm64-arm-64bit', 'event': 'train'}\n"
     ]
    },
    {
     "name": "stdout",
     "output_type": "stream",
     "text": [
      "Saved trainable_fasttext_tfidf results to Artifacts/multiclass/multiclass_trainable_fasttext_tfidf_300f.joblib\n",
      "\n",
      "Regression task (term)\n",
      "→ Vectorizing regression task with word2vec_avg ...\n"
     ]
    },
    {
     "name": "stderr",
     "output_type": "stream",
     "text": [
      "INFO:gensim.models.word2vec:EPOCH 0: training on 210531 raw words (184976 effective words) took 0.1s, 1853577 effective words/s\n",
      "INFO:gensim.models.word2vec:EPOCH 1: training on 210531 raw words (185033 effective words) took 0.1s, 1974167 effective words/s\n",
      "INFO:gensim.models.word2vec:EPOCH 2: training on 210531 raw words (185018 effective words) took 0.1s, 1970213 effective words/s\n",
      "INFO:gensim.models.word2vec:EPOCH 3: training on 210531 raw words (185183 effective words) took 0.1s, 2054615 effective words/s\n",
      "INFO:gensim.models.word2vec:EPOCH 4: training on 210531 raw words (184859 effective words) took 0.1s, 2086507 effective words/s\n",
      "INFO:gensim.utils:Word2Vec lifecycle event {'msg': 'training on 1052655 raw words (925069 effective words) took 0.5s, 1942906 effective words/s', 'datetime': '2025-10-11T16:47:00.913801', 'gensim': '4.3.3', 'python': '3.10.18 | packaged by conda-forge | (main, Jun  4 2025, 14:46:00) [Clang 18.1.8 ]', 'platform': 'macOS-26.0.1-arm64-arm-64bit', 'event': 'train'}\n",
      "INFO:gensim.utils:Word2Vec lifecycle event {'params': 'Word2Vec<vocab=8615, vector_size=300, alpha=0.025>', 'datetime': '2025-10-11T16:47:00.914032', 'gensim': '4.3.3', 'python': '3.10.18 | packaged by conda-forge | (main, Jun  4 2025, 14:46:00) [Clang 18.1.8 ]', 'platform': 'macOS-26.0.1-arm64-arm-64bit', 'event': 'created'}\n",
      "INFO:gensim.models.word2vec:collecting all words and their counts\n",
      "INFO:gensim.models.word2vec:PROGRESS: at sentence #0, processed 0 words, keeping 0 word types\n",
      "INFO:gensim.models.word2vec:collected 12996 word types from a corpus of 210531 raw words and 2270 sentences\n",
      "INFO:gensim.models.word2vec:Creating a fresh vocabulary\n",
      "INFO:gensim.utils:Word2Vec lifecycle event {'msg': 'effective_min_count=2 retains 8615 unique words (66.29% of original 12996, drops 4381)', 'datetime': '2025-10-11T16:47:01.301290', 'gensim': '4.3.3', 'python': '3.10.18 | packaged by conda-forge | (main, Jun  4 2025, 14:46:00) [Clang 18.1.8 ]', 'platform': 'macOS-26.0.1-arm64-arm-64bit', 'event': 'prepare_vocab'}\n",
      "INFO:gensim.utils:Word2Vec lifecycle event {'msg': 'effective_min_count=2 leaves 206150 word corpus (97.92% of original 210531, drops 4381)', 'datetime': '2025-10-11T16:47:01.301574', 'gensim': '4.3.3', 'python': '3.10.18 | packaged by conda-forge | (main, Jun  4 2025, 14:46:00) [Clang 18.1.8 ]', 'platform': 'macOS-26.0.1-arm64-arm-64bit', 'event': 'prepare_vocab'}\n",
      "INFO:gensim.models.word2vec:deleting the raw counts dictionary of 12996 items\n",
      "INFO:gensim.models.word2vec:sample=0.001 downsamples 45 most-common words\n",
      "INFO:gensim.utils:Word2Vec lifecycle event {'msg': 'downsampling leaves estimated 185010.27027878078 word corpus (89.7%% of prior 206150)', 'datetime': '2025-10-11T16:47:01.317021', 'gensim': '4.3.3', 'python': '3.10.18 | packaged by conda-forge | (main, Jun  4 2025, 14:46:00) [Clang 18.1.8 ]', 'platform': 'macOS-26.0.1-arm64-arm-64bit', 'event': 'prepare_vocab'}\n",
      "INFO:gensim.models.word2vec:estimated required memory for 8615 words and 300 dimensions: 24983500 bytes\n",
      "INFO:gensim.models.word2vec:resetting layer weights\n",
      "INFO:gensim.utils:Word2Vec lifecycle event {'update': False, 'trim_rule': 'None', 'datetime': '2025-10-11T16:47:01.346131', 'gensim': '4.3.3', 'python': '3.10.18 | packaged by conda-forge | (main, Jun  4 2025, 14:46:00) [Clang 18.1.8 ]', 'platform': 'macOS-26.0.1-arm64-arm-64bit', 'event': 'build_vocab'}\n",
      "INFO:gensim.utils:Word2Vec lifecycle event {'msg': 'training model with 4 workers on 8615 vocabulary and 300 features, using sg=0 hs=0 sample=0.001 negative=5 window=5 shrink_windows=True', 'datetime': '2025-10-11T16:47:01.346386', 'gensim': '4.3.3', 'python': '3.10.18 | packaged by conda-forge | (main, Jun  4 2025, 14:46:00) [Clang 18.1.8 ]', 'platform': 'macOS-26.0.1-arm64-arm-64bit', 'event': 'train'}\n"
     ]
    },
    {
     "name": "stdout",
     "output_type": "stream",
     "text": [
      "Saved word2vec_avg results to Artifacts/regression/regression_word2vec_avg_300f.joblib\n",
      "→ Vectorizing regression task with word2vec_tfidf ...\n"
     ]
    },
    {
     "name": "stderr",
     "output_type": "stream",
     "text": [
      "INFO:gensim.models.word2vec:EPOCH 0: training on 210531 raw words (184976 effective words) took 0.1s, 1971505 effective words/s\n",
      "INFO:gensim.models.word2vec:EPOCH 1: training on 210531 raw words (185066 effective words) took 0.1s, 2071456 effective words/s\n",
      "INFO:gensim.models.word2vec:EPOCH 2: training on 210531 raw words (184985 effective words) took 0.1s, 1859016 effective words/s\n",
      "INFO:gensim.models.word2vec:EPOCH 3: training on 210531 raw words (185183 effective words) took 0.1s, 1903648 effective words/s\n",
      "INFO:gensim.models.word2vec:EPOCH 4: training on 210531 raw words (184974 effective words) took 0.1s, 1988406 effective words/s\n",
      "INFO:gensim.utils:Word2Vec lifecycle event {'msg': 'training on 1052655 raw words (925184 effective words) took 0.5s, 1919769 effective words/s', 'datetime': '2025-10-11T16:47:01.828525', 'gensim': '4.3.3', 'python': '3.10.18 | packaged by conda-forge | (main, Jun  4 2025, 14:46:00) [Clang 18.1.8 ]', 'platform': 'macOS-26.0.1-arm64-arm-64bit', 'event': 'train'}\n",
      "INFO:gensim.utils:Word2Vec lifecycle event {'params': 'Word2Vec<vocab=8615, vector_size=300, alpha=0.025>', 'datetime': '2025-10-11T16:47:01.828764', 'gensim': '4.3.3', 'python': '3.10.18 | packaged by conda-forge | (main, Jun  4 2025, 14:46:00) [Clang 18.1.8 ]', 'platform': 'macOS-26.0.1-arm64-arm-64bit', 'event': 'created'}\n",
      "INFO:gensim.models.word2vec:collecting all words and their counts\n",
      "INFO:gensim.models.word2vec:PROGRESS: at sentence #0, processed 0 words, keeping 0 word types\n",
      "INFO:gensim.models.word2vec:collected 12996 word types from a corpus of 210531 raw words and 2270 sentences\n",
      "INFO:gensim.models.word2vec:Creating a fresh vocabulary\n",
      "INFO:gensim.utils:FastText lifecycle event {'msg': 'effective_min_count=2 retains 8615 unique words (66.29% of original 12996, drops 4381)', 'datetime': '2025-10-11T16:47:02.381905', 'gensim': '4.3.3', 'python': '3.10.18 | packaged by conda-forge | (main, Jun  4 2025, 14:46:00) [Clang 18.1.8 ]', 'platform': 'macOS-26.0.1-arm64-arm-64bit', 'event': 'prepare_vocab'}\n",
      "INFO:gensim.utils:FastText lifecycle event {'msg': 'effective_min_count=2 leaves 206150 word corpus (97.92% of original 210531, drops 4381)', 'datetime': '2025-10-11T16:47:02.382226', 'gensim': '4.3.3', 'python': '3.10.18 | packaged by conda-forge | (main, Jun  4 2025, 14:46:00) [Clang 18.1.8 ]', 'platform': 'macOS-26.0.1-arm64-arm-64bit', 'event': 'prepare_vocab'}\n",
      "INFO:gensim.models.word2vec:deleting the raw counts dictionary of 12996 items\n",
      "INFO:gensim.models.word2vec:sample=0.001 downsamples 45 most-common words\n",
      "INFO:gensim.utils:FastText lifecycle event {'msg': 'downsampling leaves estimated 185010.27027878078 word corpus (89.7%% of prior 206150)', 'datetime': '2025-10-11T16:47:02.397702', 'gensim': '4.3.3', 'python': '3.10.18 | packaged by conda-forge | (main, Jun  4 2025, 14:46:00) [Clang 18.1.8 ]', 'platform': 'macOS-26.0.1-arm64-arm-64bit', 'event': 'prepare_vocab'}\n",
      "INFO:gensim.models.fasttext:estimated required memory for 8615 words, 2000000 buckets and 300 dimensions: 2426624980 bytes\n",
      "INFO:gensim.models.word2vec:resetting layer weights\n"
     ]
    },
    {
     "name": "stdout",
     "output_type": "stream",
     "text": [
      "Saved word2vec_tfidf results to Artifacts/regression/regression_word2vec_tfidf_300f.joblib\n",
      "→ Vectorizing regression task with fasttext_avg ...\n"
     ]
    },
    {
     "name": "stderr",
     "output_type": "stream",
     "text": [
      "INFO:gensim.utils:FastText lifecycle event {'update': False, 'trim_rule': 'None', 'datetime': '2025-10-11T16:47:03.994909', 'gensim': '4.3.3', 'python': '3.10.18 | packaged by conda-forge | (main, Jun  4 2025, 14:46:00) [Clang 18.1.8 ]', 'platform': 'macOS-26.0.1-arm64-arm-64bit', 'event': 'build_vocab'}\n",
      "INFO:gensim.utils:FastText lifecycle event {'msg': 'training model with 4 workers on 8615 vocabulary and 300 features, using sg=0 hs=0 sample=0.001 negative=5 window=5 shrink_windows=True', 'datetime': '2025-10-11T16:47:03.995359', 'gensim': '4.3.3', 'python': '3.10.18 | packaged by conda-forge | (main, Jun  4 2025, 14:46:00) [Clang 18.1.8 ]', 'platform': 'macOS-26.0.1-arm64-arm-64bit', 'event': 'train'}\n",
      "INFO:gensim.models.word2vec:EPOCH 0: training on 210531 raw words (184901 effective words) took 0.6s, 288813 effective words/s\n",
      "INFO:gensim.models.word2vec:EPOCH 1: training on 210531 raw words (185085 effective words) took 0.7s, 280249 effective words/s\n",
      "INFO:gensim.models.word2vec:EPOCH 2: training on 210531 raw words (184982 effective words) took 0.7s, 273648 effective words/s\n",
      "INFO:gensim.models.word2vec:EPOCH 3: training on 210531 raw words (184972 effective words) took 0.7s, 282613 effective words/s\n",
      "INFO:gensim.models.word2vec:EPOCH 4: training on 210531 raw words (185117 effective words) took 0.6s, 289172 effective words/s\n",
      "INFO:gensim.utils:FastText lifecycle event {'msg': 'training on 1052655 raw words (925057 effective words) took 3.3s, 281837 effective words/s', 'datetime': '2025-10-11T16:47:07.277883', 'gensim': '4.3.3', 'python': '3.10.18 | packaged by conda-forge | (main, Jun  4 2025, 14:46:00) [Clang 18.1.8 ]', 'platform': 'macOS-26.0.1-arm64-arm-64bit', 'event': 'train'}\n",
      "INFO:gensim.utils:FastText lifecycle event {'params': 'FastText<vocab=8615, vector_size=300, alpha=0.025>', 'datetime': '2025-10-11T16:47:07.392498', 'gensim': '4.3.3', 'python': '3.10.18 | packaged by conda-forge | (main, Jun  4 2025, 14:46:00) [Clang 18.1.8 ]', 'platform': 'macOS-26.0.1-arm64-arm-64bit', 'event': 'created'}\n",
      "INFO:gensim.models.word2vec:collecting all words and their counts\n",
      "INFO:gensim.models.word2vec:PROGRESS: at sentence #0, processed 0 words, keeping 0 word types\n",
      "INFO:gensim.models.word2vec:collected 12996 word types from a corpus of 210531 raw words and 2270 sentences\n",
      "INFO:gensim.models.word2vec:Creating a fresh vocabulary\n",
      "INFO:gensim.utils:FastText lifecycle event {'msg': 'effective_min_count=2 retains 8615 unique words (66.29% of original 12996, drops 4381)', 'datetime': '2025-10-11T16:47:07.954866', 'gensim': '4.3.3', 'python': '3.10.18 | packaged by conda-forge | (main, Jun  4 2025, 14:46:00) [Clang 18.1.8 ]', 'platform': 'macOS-26.0.1-arm64-arm-64bit', 'event': 'prepare_vocab'}\n",
      "INFO:gensim.utils:FastText lifecycle event {'msg': 'effective_min_count=2 leaves 206150 word corpus (97.92% of original 210531, drops 4381)', 'datetime': '2025-10-11T16:47:07.955203', 'gensim': '4.3.3', 'python': '3.10.18 | packaged by conda-forge | (main, Jun  4 2025, 14:46:00) [Clang 18.1.8 ]', 'platform': 'macOS-26.0.1-arm64-arm-64bit', 'event': 'prepare_vocab'}\n",
      "INFO:gensim.models.word2vec:deleting the raw counts dictionary of 12996 items\n",
      "INFO:gensim.models.word2vec:sample=0.001 downsamples 45 most-common words\n",
      "INFO:gensim.utils:FastText lifecycle event {'msg': 'downsampling leaves estimated 185010.27027878078 word corpus (89.7%% of prior 206150)', 'datetime': '2025-10-11T16:47:07.970763', 'gensim': '4.3.3', 'python': '3.10.18 | packaged by conda-forge | (main, Jun  4 2025, 14:46:00) [Clang 18.1.8 ]', 'platform': 'macOS-26.0.1-arm64-arm-64bit', 'event': 'prepare_vocab'}\n",
      "INFO:gensim.models.fasttext:estimated required memory for 8615 words, 2000000 buckets and 300 dimensions: 2426624980 bytes\n",
      "INFO:gensim.models.word2vec:resetting layer weights\n"
     ]
    },
    {
     "name": "stdout",
     "output_type": "stream",
     "text": [
      "Saved fasttext_avg results to Artifacts/regression/regression_fasttext_avg_300f.joblib\n",
      "→ Vectorizing regression task with fasttext_tfidf ...\n"
     ]
    },
    {
     "name": "stderr",
     "output_type": "stream",
     "text": [
      "INFO:gensim.utils:FastText lifecycle event {'update': False, 'trim_rule': 'None', 'datetime': '2025-10-11T16:47:09.566753', 'gensim': '4.3.3', 'python': '3.10.18 | packaged by conda-forge | (main, Jun  4 2025, 14:46:00) [Clang 18.1.8 ]', 'platform': 'macOS-26.0.1-arm64-arm-64bit', 'event': 'build_vocab'}\n",
      "INFO:gensim.utils:FastText lifecycle event {'msg': 'training model with 4 workers on 8615 vocabulary and 300 features, using sg=0 hs=0 sample=0.001 negative=5 window=5 shrink_windows=True', 'datetime': '2025-10-11T16:47:09.567245', 'gensim': '4.3.3', 'python': '3.10.18 | packaged by conda-forge | (main, Jun  4 2025, 14:46:00) [Clang 18.1.8 ]', 'platform': 'macOS-26.0.1-arm64-arm-64bit', 'event': 'train'}\n",
      "INFO:gensim.models.word2vec:EPOCH 0: training on 210531 raw words (184901 effective words) took 0.6s, 292573 effective words/s\n",
      "INFO:gensim.models.word2vec:EPOCH 1: training on 210531 raw words (185140 effective words) took 0.6s, 300464 effective words/s\n",
      "INFO:gensim.models.word2vec:EPOCH 2: training on 210531 raw words (185098 effective words) took 0.6s, 291190 effective words/s\n",
      "INFO:gensim.models.word2vec:EPOCH 3: training on 210531 raw words (185065 effective words) took 0.6s, 284993 effective words/s\n",
      "INFO:gensim.models.word2vec:EPOCH 4: training on 210531 raw words (184909 effective words) took 0.7s, 265802 effective words/s\n",
      "INFO:gensim.utils:FastText lifecycle event {'msg': 'training on 1052655 raw words (925113 effective words) took 3.2s, 285530 effective words/s', 'datetime': '2025-10-11T16:47:12.807538', 'gensim': '4.3.3', 'python': '3.10.18 | packaged by conda-forge | (main, Jun  4 2025, 14:46:00) [Clang 18.1.8 ]', 'platform': 'macOS-26.0.1-arm64-arm-64bit', 'event': 'train'}\n",
      "INFO:gensim.utils:FastText lifecycle event {'params': 'FastText<vocab=8615, vector_size=300, alpha=0.025>', 'datetime': '2025-10-11T16:47:12.932612', 'gensim': '4.3.3', 'python': '3.10.18 | packaged by conda-forge | (main, Jun  4 2025, 14:46:00) [Clang 18.1.8 ]', 'platform': 'macOS-26.0.1-arm64-arm-64bit', 'event': 'created'}\n",
      "INFO:gensim.models.keyedvectors:loading projection weights from /Users/fpmuga/gensim-data/glove-wiki-gigaword-300/glove-wiki-gigaword-300.gz\n"
     ]
    },
    {
     "name": "stdout",
     "output_type": "stream",
     "text": [
      "Saved fasttext_tfidf results to Artifacts/regression/regression_fasttext_tfidf_300f.joblib\n",
      "→ Vectorizing regression task with glove_avg ...\n"
     ]
    },
    {
     "name": "stderr",
     "output_type": "stream",
     "text": [
      "INFO:gensim.utils:KeyedVectors lifecycle event {'msg': 'loaded (400000, 300) matrix of type float32 from /Users/fpmuga/gensim-data/glove-wiki-gigaword-300/glove-wiki-gigaword-300.gz', 'binary': False, 'encoding': 'utf8', 'datetime': '2025-10-11T16:47:41.777462', 'gensim': '4.3.3', 'python': '3.10.18 | packaged by conda-forge | (main, Jun  4 2025, 14:46:00) [Clang 18.1.8 ]', 'platform': 'macOS-26.0.1-arm64-arm-64bit', 'event': 'load_word2vec_format'}\n",
      "INFO:gensim.models.keyedvectors:loading projection weights from /Users/fpmuga/gensim-data/glove-wiki-gigaword-300/glove-wiki-gigaword-300.gz\n"
     ]
    },
    {
     "name": "stdout",
     "output_type": "stream",
     "text": [
      "Saved glove_avg results to Artifacts/regression/regression_glove_avg_300f.joblib\n",
      "→ Vectorizing regression task with glove_tfidf ...\n"
     ]
    },
    {
     "name": "stderr",
     "output_type": "stream",
     "text": [
      "INFO:gensim.utils:KeyedVectors lifecycle event {'msg': 'loaded (400000, 300) matrix of type float32 from /Users/fpmuga/gensim-data/glove-wiki-gigaword-300/glove-wiki-gigaword-300.gz', 'binary': False, 'encoding': 'utf8', 'datetime': '2025-10-11T16:48:10.378482', 'gensim': '4.3.3', 'python': '3.10.18 | packaged by conda-forge | (main, Jun  4 2025, 14:46:00) [Clang 18.1.8 ]', 'platform': 'macOS-26.0.1-arm64-arm-64bit', 'event': 'load_word2vec_format'}\n",
      "INFO:gensim.models.word2vec:collecting all words and their counts\n",
      "INFO:gensim.models.word2vec:PROGRESS: at sentence #0, processed 0 words, keeping 0 word types\n",
      "INFO:gensim.models.word2vec:collected 12996 word types from a corpus of 210531 raw words and 2270 sentences\n",
      "INFO:gensim.models.word2vec:Creating a fresh vocabulary\n",
      "INFO:gensim.utils:Word2Vec lifecycle event {'msg': 'effective_min_count=1 retains 12996 unique words (100.00% of original 12996, drops 0)', 'datetime': '2025-10-11T16:48:10.954897', 'gensim': '4.3.3', 'python': '3.10.18 | packaged by conda-forge | (main, Jun  4 2025, 14:46:00) [Clang 18.1.8 ]', 'platform': 'macOS-26.0.1-arm64-arm-64bit', 'event': 'prepare_vocab'}\n",
      "INFO:gensim.utils:Word2Vec lifecycle event {'msg': 'effective_min_count=1 leaves 210531 word corpus (100.00% of original 210531, drops 0)', 'datetime': '2025-10-11T16:48:10.955221', 'gensim': '4.3.3', 'python': '3.10.18 | packaged by conda-forge | (main, Jun  4 2025, 14:46:00) [Clang 18.1.8 ]', 'platform': 'macOS-26.0.1-arm64-arm-64bit', 'event': 'prepare_vocab'}\n",
      "INFO:gensim.models.word2vec:deleting the raw counts dictionary of 12996 items\n",
      "INFO:gensim.models.word2vec:sample=0.001 downsamples 43 most-common words\n",
      "INFO:gensim.utils:Word2Vec lifecycle event {'msg': 'downsampling leaves estimated 189803.62876776457 word corpus (90.2%% of prior 210531)', 'datetime': '2025-10-11T16:48:10.978440', 'gensim': '4.3.3', 'python': '3.10.18 | packaged by conda-forge | (main, Jun  4 2025, 14:46:00) [Clang 18.1.8 ]', 'platform': 'macOS-26.0.1-arm64-arm-64bit', 'event': 'prepare_vocab'}\n",
      "INFO:gensim.models.word2vec:estimated required memory for 12996 words and 300 dimensions: 37688400 bytes\n",
      "INFO:gensim.models.word2vec:resetting layer weights\n",
      "INFO:gensim.utils:Word2Vec lifecycle event {'update': False, 'trim_rule': 'None', 'datetime': '2025-10-11T16:48:11.022833', 'gensim': '4.3.3', 'python': '3.10.18 | packaged by conda-forge | (main, Jun  4 2025, 14:46:00) [Clang 18.1.8 ]', 'platform': 'macOS-26.0.1-arm64-arm-64bit', 'event': 'build_vocab'}\n",
      "INFO:gensim.utils:Word2Vec lifecycle event {'msg': 'training model with 4 workers on 12996 vocabulary and 300 features, using sg=0 hs=0 sample=0.001 negative=5 window=5 shrink_windows=True', 'datetime': '2025-10-11T16:48:11.023088', 'gensim': '4.3.3', 'python': '3.10.18 | packaged by conda-forge | (main, Jun  4 2025, 14:46:00) [Clang 18.1.8 ]', 'platform': 'macOS-26.0.1-arm64-arm-64bit', 'event': 'train'}\n"
     ]
    },
    {
     "name": "stdout",
     "output_type": "stream",
     "text": [
      "Saved glove_tfidf results to Artifacts/regression/regression_glove_tfidf_300f.joblib\n",
      "→ Vectorizing regression task with trainable_fasttext_avg ...\n"
     ]
    },
    {
     "name": "stderr",
     "output_type": "stream",
     "text": [
      "INFO:gensim.models.word2vec:EPOCH 0: training on 210531 raw words (189716 effective words) took 0.1s, 1873418 effective words/s\n",
      "INFO:gensim.models.word2vec:EPOCH 1: training on 210531 raw words (189851 effective words) took 0.1s, 1977108 effective words/s\n",
      "INFO:gensim.models.word2vec:EPOCH 2: training on 210531 raw words (189641 effective words) took 0.1s, 1909881 effective words/s\n",
      "INFO:gensim.models.word2vec:EPOCH 3: training on 210531 raw words (189813 effective words) took 0.1s, 1977222 effective words/s\n",
      "INFO:gensim.models.word2vec:EPOCH 4: training on 210531 raw words (189799 effective words) took 0.1s, 1964138 effective words/s\n",
      "INFO:gensim.models.word2vec:EPOCH 5: training on 210531 raw words (189969 effective words) took 0.1s, 1956900 effective words/s\n",
      "INFO:gensim.models.word2vec:EPOCH 6: training on 210531 raw words (189804 effective words) took 0.1s, 1915710 effective words/s\n",
      "INFO:gensim.models.word2vec:EPOCH 7: training on 210531 raw words (189842 effective words) took 0.1s, 2066953 effective words/s\n",
      "INFO:gensim.models.word2vec:EPOCH 8: training on 210531 raw words (189782 effective words) took 0.1s, 1849324 effective words/s\n",
      "INFO:gensim.models.word2vec:EPOCH 9: training on 210531 raw words (189816 effective words) took 0.1s, 1924748 effective words/s\n",
      "INFO:gensim.models.word2vec:EPOCH 10: training on 210531 raw words (189775 effective words) took 0.1s, 1971139 effective words/s\n",
      "INFO:gensim.models.word2vec:EPOCH 11: training on 210531 raw words (189791 effective words) took 0.1s, 1826222 effective words/s\n",
      "INFO:gensim.models.word2vec:EPOCH 12: training on 210531 raw words (189864 effective words) took 0.1s, 1850586 effective words/s\n",
      "INFO:gensim.models.word2vec:EPOCH 13: training on 210531 raw words (189594 effective words) took 0.1s, 1857153 effective words/s\n",
      "INFO:gensim.models.word2vec:EPOCH 14: training on 210531 raw words (189765 effective words) took 0.1s, 1865047 effective words/s\n",
      "INFO:gensim.models.word2vec:EPOCH 15: training on 210531 raw words (189855 effective words) took 0.1s, 1865241 effective words/s\n",
      "INFO:gensim.models.word2vec:EPOCH 16: training on 210531 raw words (189921 effective words) took 0.1s, 2038667 effective words/s\n",
      "INFO:gensim.models.word2vec:EPOCH 17: training on 210531 raw words (189863 effective words) took 0.1s, 1852850 effective words/s\n",
      "INFO:gensim.models.word2vec:EPOCH 18: training on 210531 raw words (189694 effective words) took 0.1s, 1975011 effective words/s\n",
      "INFO:gensim.models.word2vec:EPOCH 19: training on 210531 raw words (189755 effective words) took 0.1s, 1912173 effective words/s\n",
      "INFO:gensim.utils:Word2Vec lifecycle event {'msg': 'training on 4210620 raw words (3795910 effective words) took 2.0s, 1890751 effective words/s', 'datetime': '2025-10-11T16:48:13.030934', 'gensim': '4.3.3', 'python': '3.10.18 | packaged by conda-forge | (main, Jun  4 2025, 14:46:00) [Clang 18.1.8 ]', 'platform': 'macOS-26.0.1-arm64-arm-64bit', 'event': 'train'}\n",
      "INFO:gensim.utils:Word2Vec lifecycle event {'params': 'Word2Vec<vocab=12996, vector_size=300, alpha=0.025>', 'datetime': '2025-10-11T16:48:13.031164', 'gensim': '4.3.3', 'python': '3.10.18 | packaged by conda-forge | (main, Jun  4 2025, 14:46:00) [Clang 18.1.8 ]', 'platform': 'macOS-26.0.1-arm64-arm-64bit', 'event': 'created'}\n",
      "INFO:gensim.models.word2vec:collecting all words and their counts\n",
      "INFO:gensim.models.word2vec:PROGRESS: at sentence #0, processed 0 words, keeping 0 word types\n",
      "INFO:gensim.models.word2vec:collected 12996 word types from a corpus of 210531 raw words and 2270 sentences\n",
      "INFO:gensim.models.word2vec:Creating a fresh vocabulary\n",
      "INFO:gensim.utils:FastText lifecycle event {'msg': 'effective_min_count=1 retains 12996 unique words (100.00% of original 12996, drops 0)', 'datetime': '2025-10-11T16:48:13.443027', 'gensim': '4.3.3', 'python': '3.10.18 | packaged by conda-forge | (main, Jun  4 2025, 14:46:00) [Clang 18.1.8 ]', 'platform': 'macOS-26.0.1-arm64-arm-64bit', 'event': 'prepare_vocab'}\n",
      "INFO:gensim.utils:FastText lifecycle event {'msg': 'effective_min_count=1 leaves 210531 word corpus (100.00% of original 210531, drops 0)', 'datetime': '2025-10-11T16:48:13.443394', 'gensim': '4.3.3', 'python': '3.10.18 | packaged by conda-forge | (main, Jun  4 2025, 14:46:00) [Clang 18.1.8 ]', 'platform': 'macOS-26.0.1-arm64-arm-64bit', 'event': 'prepare_vocab'}\n",
      "INFO:gensim.models.word2vec:deleting the raw counts dictionary of 12996 items\n",
      "INFO:gensim.models.word2vec:sample=0.001 downsamples 43 most-common words\n",
      "INFO:gensim.utils:FastText lifecycle event {'msg': 'downsampling leaves estimated 189803.62876776457 word corpus (90.2%% of prior 210531)', 'datetime': '2025-10-11T16:48:13.465700', 'gensim': '4.3.3', 'python': '3.10.18 | packaged by conda-forge | (main, Jun  4 2025, 14:46:00) [Clang 18.1.8 ]', 'platform': 'macOS-26.0.1-arm64-arm-64bit', 'event': 'prepare_vocab'}\n",
      "INFO:gensim.models.fasttext:estimated required memory for 12996 words, 2000000 buckets and 300 dimensions: 2440201136 bytes\n",
      "INFO:gensim.models.word2vec:resetting layer weights\n"
     ]
    },
    {
     "name": "stdout",
     "output_type": "stream",
     "text": [
      "Saved trainable_fasttext_avg results to Artifacts/regression/regression_trainable_fasttext_avg_300f.joblib\n",
      "→ Vectorizing regression task with trainable_fasttext_tfidf ...\n"
     ]
    },
    {
     "name": "stderr",
     "output_type": "stream",
     "text": [
      "INFO:gensim.utils:FastText lifecycle event {'update': False, 'trim_rule': 'None', 'datetime': '2025-10-11T16:48:15.168006', 'gensim': '4.3.3', 'python': '3.10.18 | packaged by conda-forge | (main, Jun  4 2025, 14:46:00) [Clang 18.1.8 ]', 'platform': 'macOS-26.0.1-arm64-arm-64bit', 'event': 'build_vocab'}\n",
      "INFO:gensim.utils:FastText lifecycle event {'msg': 'training model with 4 workers on 12996 vocabulary and 300 features, using sg=0 hs=0 sample=0.001 negative=5 window=5 shrink_windows=True', 'datetime': '2025-10-11T16:48:15.168479', 'gensim': '4.3.3', 'python': '3.10.18 | packaged by conda-forge | (main, Jun  4 2025, 14:46:00) [Clang 18.1.8 ]', 'platform': 'macOS-26.0.1-arm64-arm-64bit', 'event': 'train'}\n",
      "INFO:gensim.models.word2vec:EPOCH 0: training on 210531 raw words (189678 effective words) took 0.7s, 276527 effective words/s\n",
      "INFO:gensim.models.word2vec:EPOCH 1: training on 210531 raw words (189674 effective words) took 0.7s, 265071 effective words/s\n",
      "INFO:gensim.models.word2vec:EPOCH 2: training on 210531 raw words (189603 effective words) took 0.7s, 273695 effective words/s\n",
      "INFO:gensim.models.word2vec:EPOCH 3: training on 210531 raw words (189941 effective words) took 0.7s, 267298 effective words/s\n",
      "INFO:gensim.models.word2vec:EPOCH 4: training on 210531 raw words (189740 effective words) took 0.7s, 255041 effective words/s\n",
      "INFO:gensim.models.word2vec:EPOCH 5: training on 210531 raw words (189753 effective words) took 0.7s, 265079 effective words/s\n",
      "INFO:gensim.models.word2vec:EPOCH 6: training on 210531 raw words (189885 effective words) took 0.7s, 255666 effective words/s\n",
      "INFO:gensim.models.word2vec:EPOCH 7: training on 210531 raw words (189797 effective words) took 0.7s, 268404 effective words/s\n",
      "INFO:gensim.models.word2vec:EPOCH 8: training on 210531 raw words (189933 effective words) took 0.7s, 275387 effective words/s\n",
      "INFO:gensim.models.word2vec:EPOCH 9: training on 210531 raw words (189772 effective words) took 0.7s, 263144 effective words/s\n",
      "INFO:gensim.models.word2vec:EPOCH 10: training on 210531 raw words (189759 effective words) took 0.7s, 255776 effective words/s\n",
      "INFO:gensim.models.word2vec:EPOCH 11: training on 210531 raw words (189849 effective words) took 0.7s, 259703 effective words/s\n",
      "INFO:gensim.models.word2vec:EPOCH 12: training on 210531 raw words (189815 effective words) took 0.7s, 261562 effective words/s\n",
      "INFO:gensim.models.word2vec:EPOCH 13: training on 210531 raw words (189888 effective words) took 0.7s, 255591 effective words/s\n",
      "INFO:gensim.models.word2vec:EPOCH 14: training on 210531 raw words (189829 effective words) took 0.7s, 267279 effective words/s\n",
      "INFO:gensim.models.word2vec:EPOCH 15: training on 210531 raw words (189741 effective words) took 0.7s, 260821 effective words/s\n",
      "INFO:gensim.models.word2vec:EPOCH 16: training on 210531 raw words (189908 effective words) took 0.7s, 282496 effective words/s\n",
      "INFO:gensim.models.word2vec:EPOCH 17: training on 210531 raw words (189898 effective words) took 0.7s, 286161 effective words/s\n",
      "INFO:gensim.models.word2vec:EPOCH 18: training on 210531 raw words (189795 effective words) took 0.7s, 279358 effective words/s\n",
      "INFO:gensim.models.word2vec:EPOCH 19: training on 210531 raw words (189888 effective words) took 0.7s, 268989 effective words/s\n",
      "INFO:gensim.utils:FastText lifecycle event {'msg': 'training on 4210620 raw words (3796146 effective words) took 14.3s, 266019 effective words/s', 'datetime': '2025-10-11T16:48:29.439061', 'gensim': '4.3.3', 'python': '3.10.18 | packaged by conda-forge | (main, Jun  4 2025, 14:46:00) [Clang 18.1.8 ]', 'platform': 'macOS-26.0.1-arm64-arm-64bit', 'event': 'train'}\n",
      "INFO:gensim.utils:FastText lifecycle event {'params': 'FastText<vocab=12996, vector_size=300, alpha=0.025>', 'datetime': '2025-10-11T16:48:29.643308', 'gensim': '4.3.3', 'python': '3.10.18 | packaged by conda-forge | (main, Jun  4 2025, 14:46:00) [Clang 18.1.8 ]', 'platform': 'macOS-26.0.1-arm64-arm-64bit', 'event': 'created'}\n"
     ]
    },
    {
     "name": "stdout",
     "output_type": "stream",
     "text": [
      "Saved trainable_fasttext_tfidf results to Artifacts/regression/regression_trainable_fasttext_tfidf_300f.joblib\n",
      "\n",
      " All embedding variants successfully generated and saved with '_300f.joblib' naming convention.\n"
     ]
    }
   ],
   "source": [
    "# -----------------------------------------------------------------------------\n",
    "# Embedding Vectorization for Justice Dataset\n",
    "# (Synchronized with Traditional Vectorization)\n",
    "# -----------------------------------------------------------------------------\n",
    "# Description:\n",
    "#   Creates 8 embedding-based vectorization variants (Word2Vec, FastText, GloVe, etc.)\n",
    "#   for the Justice Dataset. Uses fixed master splits for regression, binary, and multiclass tasks.\n",
    "#   Structure and outputs are synchronized with traditional_vectorization.ipynb.\n",
    "# -----------------------------------------------------------------------------\n",
    "\n",
    "# ---------------------------\n",
    "# 1. Setup and Imports\n",
    "# ---------------------------\n",
    "from generate_master_split import ensure_master_split\n",
    "ensure_master_split()\n",
    "\n",
    "import os\n",
    "import joblib\n",
    "import pandas as pd\n",
    "\n",
    "from helpers_text_preprocessing import (\n",
    "    load_spacy_model,\n",
    "    enhanced_spacy_preprocessing\n",
    ")\n",
    "from helpers_embedding_vectorization import (\n",
    "    vectorize_embeddings,\n",
    "    save_results\n",
    ")\n",
    "\n",
    "MASTER_SPLIT_PATH = \"Artifacts/master_split_indices.joblib\"\n",
    "\n",
    "# ---------------------------\n",
    "# 2. Load Dataset\n",
    "# ---------------------------\n",
    "justice_df = pd.read_csv(\"../Justice_Dataset/justice.csv\")\n",
    "required_cols = [\"facts\", \"first_party_winner\", \"issue_area\", \"term\"]\n",
    "missing = [c for c in required_cols if c not in justice_df.columns]\n",
    "if missing:\n",
    "    raise ValueError(f\"Missing columns in dataset: {missing}\")\n",
    "\n",
    "print(f\"✅ Dataset loaded successfully: {justice_df.shape[0]} rows\")\n",
    "\n",
    "# ---------------------------\n",
    "# 3. Text Preprocessing\n",
    "# ---------------------------\n",
    "nlp = load_spacy_model(\"en_core_web_sm\")\n",
    "justice_df[\"facts_clean\"] = enhanced_spacy_preprocessing(\n",
    "    texts=justice_df[\"facts\"],\n",
    "    nlp=nlp,\n",
    "    keep_negations=True,\n",
    "    preserve_legal_terms=True,\n",
    "    batch_size=100,\n",
    "    n_process=4\n",
    ")\n",
    "print(\"Text preprocessing complete.\")\n",
    "\n",
    "# ---------------------------\n",
    "# 4. Embedding Variants\n",
    "# ---------------------------\n",
    "embedding_variants = [\n",
    "    \"word2vec_avg\", \"word2vec_tfidf\",\n",
    "    \"fasttext_avg\", \"fasttext_tfidf\",\n",
    "    \"glove_avg\", \"glove_tfidf\",\n",
    "    \"trainable_fasttext_avg\", \"trainable_fasttext_tfidf\"\n",
    "]\n",
    "\n",
    "# ---------------------------\n",
    "# 5. Path Configuration\n",
    "# ---------------------------\n",
    "try:\n",
    "    BASE_DIR = os.path.abspath(os.path.dirname(__file__))\n",
    "except NameError:\n",
    "    BASE_DIR = os.getcwd()\n",
    "\n",
    "ARTIFACTS_DIR = os.path.join(BASE_DIR, \"Artifacts\")\n",
    "os.makedirs(ARTIFACTS_DIR, exist_ok=True)\n",
    "\n",
    "for subdir in [\"binary\", \"multiclass\", \"regression\"]:\n",
    "    os.makedirs(os.path.join(ARTIFACTS_DIR, subdir), exist_ok=True)\n",
    "\n",
    "print(f\"Saving all results under: {ARTIFACTS_DIR}\")\n",
    "\n",
    "# ---------------------------\n",
    "# 6. Load Master Split Indices (3 Tasks)\n",
    "# ---------------------------\n",
    "try:\n",
    "    all_splits = joblib.load(MASTER_SPLIT_PATH)\n",
    "    print(\"Loaded fixed master split indices for all tasks.\")\n",
    "except FileNotFoundError:\n",
    "    raise RuntimeError(\"Master split not found. Run generate_master_split.py first.\")\n",
    "\n",
    "# ---------------------------\n",
    "# 7. Binary Classification\n",
    "# ---------------------------\n",
    "print(\"\\n Binary classification (first_party_winner)\")\n",
    "binary_df = justice_df[[\"facts_clean\", \"first_party_winner\"]].dropna()\n",
    "split_bin = all_splits[\"binary\"]\n",
    "\n",
    "binary_splits = {\n",
    "    \"X_train\": binary_df.loc[split_bin[\"train_idx\"], \"facts_clean\"],\n",
    "    \"X_val\":   binary_df.loc[split_bin[\"val_idx\"], \"facts_clean\"],\n",
    "    \"X_test\":  binary_df.loc[split_bin[\"test_idx\"], \"facts_clean\"],\n",
    "    \"y_train\": binary_df.loc[split_bin[\"train_idx\"], \"first_party_winner\"],\n",
    "    \"y_val\":   binary_df.loc[split_bin[\"val_idx\"], \"first_party_winner\"],\n",
    "    \"y_test\":  binary_df.loc[split_bin[\"test_idx\"], \"first_party_winner\"],\n",
    "}\n",
    "\n",
    "for variant in embedding_variants:\n",
    "    print(f\"→ Vectorizing binary task with {variant} ...\")\n",
    "    results = vectorize_embeddings(binary_splits, variant)\n",
    "    save_results(\n",
    "        results,\n",
    "        os.path.join(ARTIFACTS_DIR, \"binary\", f\"binary_{variant}_300f.joblib\"),\n",
    "        \"binary\"\n",
    "    )\n",
    "\n",
    "# ---------------------------\n",
    "# 8. Multiclass Classification\n",
    "# ---------------------------\n",
    "print(\"\\nMulticlass classification (issue_area)\")\n",
    "multiclass_df = justice_df[[\"facts_clean\", \"issue_area\"]].dropna()\n",
    "merge_map = {\"Private Action\": \"Miscellaneous\", \"Interstate Relations\": \"Miscellaneous\"}\n",
    "multiclass_df[\"issue_area\"] = multiclass_df[\"issue_area\"].replace(merge_map)\n",
    "\n",
    "split_multi = all_splits[\"multiclass\"]\n",
    "\n",
    "multiclass_splits = {\n",
    "    \"X_train\": multiclass_df.loc[split_multi[\"train_idx\"], \"facts_clean\"],\n",
    "    \"X_val\":   multiclass_df.loc[split_multi[\"val_idx\"], \"facts_clean\"],\n",
    "    \"X_test\":  multiclass_df.loc[split_multi[\"test_idx\"], \"facts_clean\"],\n",
    "    \"y_train\": multiclass_df.loc[split_multi[\"train_idx\"], \"issue_area\"],\n",
    "    \"y_val\":   multiclass_df.loc[split_multi[\"val_idx\"], \"issue_area\"],\n",
    "    \"y_test\":  multiclass_df.loc[split_multi[\"test_idx\"], \"issue_area\"],\n",
    "}\n",
    "\n",
    "for variant in embedding_variants:\n",
    "    print(f\"→ Vectorizing multiclass task with {variant} ...\")\n",
    "    results = vectorize_embeddings(multiclass_splits, variant)\n",
    "    save_results(\n",
    "        results,\n",
    "        os.path.join(ARTIFACTS_DIR, \"multiclass\", f\"multiclass_{variant}_300f.joblib\"),\n",
    "        \"multiclass\"\n",
    "    )\n",
    "\n",
    "# ---------------------------\n",
    "# 9. Regression (Term Prediction)\n",
    "# ---------------------------\n",
    "print(\"\\nRegression task (term)\")\n",
    "justice_df[\"term_year\"] = pd.to_numeric(justice_df[\"term\"], errors=\"coerce\")\n",
    "regression_df = justice_df[[\"facts_clean\", \"term_year\"]].dropna()\n",
    "\n",
    "split_reg = all_splits[\"regression\"]\n",
    "\n",
    "regression_splits = {\n",
    "    \"X_train\": regression_df.loc[split_reg[\"train_idx\"], \"facts_clean\"],\n",
    "    \"X_val\":   regression_df.loc[split_reg[\"val_idx\"], \"facts_clean\"],\n",
    "    \"X_test\":  regression_df.loc[split_reg[\"test_idx\"], \"facts_clean\"],\n",
    "    \"y_train\": regression_df.loc[split_reg[\"train_idx\"], \"term_year\"],\n",
    "    \"y_val\":   regression_df.loc[split_reg[\"val_idx\"], \"term_year\"],\n",
    "    \"y_test\":  regression_df.loc[split_reg[\"test_idx\"], \"term_year\"],\n",
    "}\n",
    "\n",
    "for variant in embedding_variants:\n",
    "    print(f\"→ Vectorizing regression task with {variant} ...\")\n",
    "    results = vectorize_embeddings(regression_splits, variant)\n",
    "    save_results(\n",
    "        results,\n",
    "        os.path.join(ARTIFACTS_DIR, \"regression\", f\"regression_{variant}_300f.joblib\"),\n",
    "        \"regression\"\n",
    "    )\n",
    "\n",
    "# ---------------------------\n",
    "# 10. Completion\n",
    "# ---------------------------\n",
    "print(\"\\n All embedding variants successfully generated and saved with '_300f.joblib' naming convention.\")"
   ]
  }
 ],
 "metadata": {
  "kernelspec": {
   "display_name": "math103mps_env2",
   "language": "python",
   "name": "python3"
  },
  "language_info": {
   "codemirror_mode": {
    "name": "ipython",
    "version": 3
   },
   "file_extension": ".py",
   "mimetype": "text/x-python",
   "name": "python",
   "nbconvert_exporter": "python",
   "pygments_lexer": "ipython3",
   "version": "3.10.18"
  }
 },
 "nbformat": 4,
 "nbformat_minor": 5
}
